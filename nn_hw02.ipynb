{
  "cells": [
    {
      "cell_type": "markdown",
      "metadata": {
        "id": "Q_upCOEI3Upu"
      },
      "source": [
        "### О задании\n",
        "\n",
        "В этом задании вам предстоит предсказывать год выпуска песни (**задача регрессии**) по некоторым звуковым признакам: [данные](https://archive.ics.uci.edu/ml/datasets/yearpredictionmsd). В ячейках ниже находится код для загрузки данных. Обратите внимание, что обучающая и тестовая выборки располагаются в одном файле, поэтому НЕ меняйте ячейку, в которой производится деление данных."
      ]
    },
    {
      "cell_type": "code",
      "execution_count": 1,
      "metadata": {
        "id": "RI_eoe063VaP"
      },
      "outputs": [],
      "source": [
        "import random\n",
        "\n",
        "import numpy as np\n",
        "import pandas as pd\n",
        "import torch\n",
        "from torch import nn\n",
        "\n",
        "import matplotlib.pyplot as plt\n",
        "import seaborn as sns\n",
        "\n",
        "from sklearn.preprocessing import StandardScaler\n",
        "from sklearn.decomposition import PCA\n",
        "from sklearn.metrics import root_mean_squared_error"
      ]
    },
    {
      "cell_type": "code",
      "execution_count": null,
      "metadata": {
        "id": "p539UEo8437q"
      },
      "outputs": [],
      "source": [
        "# %conda install wget"
      ]
    },
    {
      "cell_type": "code",
      "execution_count": 3,
      "metadata": {
        "colab": {
          "base_uri": "https://localhost:8080/"
        },
        "id": "7NgSZeU-7vgj",
        "outputId": "554760be-e106-4a93-f457-dfe8ffe96a9e"
      },
      "outputs": [
        {
          "name": "stdout",
          "output_type": "stream",
          "text": [
            "--2024-12-30 17:32:27--  https://archive.ics.uci.edu/ml/machine-learning-databases/00203/YearPredictionMSD.txt.zip\n",
            "Resolving archive.ics.uci.edu (archive.ics.uci.edu)... 128.195.10.252\n",
            "Connecting to archive.ics.uci.edu (archive.ics.uci.edu)|128.195.10.252|:443... connected.\n",
            "HTTP request sent, awaiting response... 200 OK\n",
            "Length: unspecified\n",
            "Saving to: ‘data.txt.zip’\n",
            "\n",
            "data.txt.zip            [                 <=>] 201.24M  60.1MB/s    in 3.4s    \n",
            "\n",
            "2024-12-30 17:32:31 (59.2 MB/s) - ‘data.txt.zip’ saved [211011981]\n",
            "\n"
          ]
        }
      ],
      "source": [
        "!wget -O data.txt.zip https://archive.ics.uci.edu/ml/machine-learning-databases/00203/YearPredictionMSD.txt.zip"
      ]
    },
    {
      "cell_type": "code",
      "execution_count": 227,
      "metadata": {
        "colab": {
          "base_uri": "https://localhost:8080/",
          "height": 255
        },
        "id": "DSVJZzkJ7zZE",
        "outputId": "874accbd-9160-4328-c6b4-9929b03fa148"
      },
      "outputs": [
        {
          "data": {
            "application/vnd.google.colaboratory.intrinsic+json": {
              "type": "dataframe",
              "variable_name": "df"
            },
            "text/html": [
              "\n",
              "  <div id=\"df-b1dd860e-6452-452d-8881-f863c2217d26\" class=\"colab-df-container\">\n",
              "    <div>\n",
              "<style scoped>\n",
              "    .dataframe tbody tr th:only-of-type {\n",
              "        vertical-align: middle;\n",
              "    }\n",
              "\n",
              "    .dataframe tbody tr th {\n",
              "        vertical-align: top;\n",
              "    }\n",
              "\n",
              "    .dataframe thead th {\n",
              "        text-align: right;\n",
              "    }\n",
              "</style>\n",
              "<table border=\"1\" class=\"dataframe\">\n",
              "  <thead>\n",
              "    <tr style=\"text-align: right;\">\n",
              "      <th></th>\n",
              "      <th>0</th>\n",
              "      <th>1</th>\n",
              "      <th>2</th>\n",
              "      <th>3</th>\n",
              "      <th>4</th>\n",
              "      <th>5</th>\n",
              "      <th>6</th>\n",
              "      <th>7</th>\n",
              "      <th>8</th>\n",
              "      <th>9</th>\n",
              "      <th>...</th>\n",
              "      <th>81</th>\n",
              "      <th>82</th>\n",
              "      <th>83</th>\n",
              "      <th>84</th>\n",
              "      <th>85</th>\n",
              "      <th>86</th>\n",
              "      <th>87</th>\n",
              "      <th>88</th>\n",
              "      <th>89</th>\n",
              "      <th>90</th>\n",
              "    </tr>\n",
              "  </thead>\n",
              "  <tbody>\n",
              "    <tr>\n",
              "      <th>0</th>\n",
              "      <td>2001</td>\n",
              "      <td>49.94357</td>\n",
              "      <td>21.47114</td>\n",
              "      <td>73.07750</td>\n",
              "      <td>8.74861</td>\n",
              "      <td>-17.40628</td>\n",
              "      <td>-13.09905</td>\n",
              "      <td>-25.01202</td>\n",
              "      <td>-12.23257</td>\n",
              "      <td>7.83089</td>\n",
              "      <td>...</td>\n",
              "      <td>13.01620</td>\n",
              "      <td>-54.40548</td>\n",
              "      <td>58.99367</td>\n",
              "      <td>15.37344</td>\n",
              "      <td>1.11144</td>\n",
              "      <td>-23.08793</td>\n",
              "      <td>68.40795</td>\n",
              "      <td>-1.82223</td>\n",
              "      <td>-27.46348</td>\n",
              "      <td>2.26327</td>\n",
              "    </tr>\n",
              "    <tr>\n",
              "      <th>1</th>\n",
              "      <td>2001</td>\n",
              "      <td>48.73215</td>\n",
              "      <td>18.42930</td>\n",
              "      <td>70.32679</td>\n",
              "      <td>12.94636</td>\n",
              "      <td>-10.32437</td>\n",
              "      <td>-24.83777</td>\n",
              "      <td>8.76630</td>\n",
              "      <td>-0.92019</td>\n",
              "      <td>18.76548</td>\n",
              "      <td>...</td>\n",
              "      <td>5.66812</td>\n",
              "      <td>-19.68073</td>\n",
              "      <td>33.04964</td>\n",
              "      <td>42.87836</td>\n",
              "      <td>-9.90378</td>\n",
              "      <td>-32.22788</td>\n",
              "      <td>70.49388</td>\n",
              "      <td>12.04941</td>\n",
              "      <td>58.43453</td>\n",
              "      <td>26.92061</td>\n",
              "    </tr>\n",
              "    <tr>\n",
              "      <th>2</th>\n",
              "      <td>2001</td>\n",
              "      <td>50.95714</td>\n",
              "      <td>31.85602</td>\n",
              "      <td>55.81851</td>\n",
              "      <td>13.41693</td>\n",
              "      <td>-6.57898</td>\n",
              "      <td>-18.54940</td>\n",
              "      <td>-3.27872</td>\n",
              "      <td>-2.35035</td>\n",
              "      <td>16.07017</td>\n",
              "      <td>...</td>\n",
              "      <td>3.03800</td>\n",
              "      <td>26.05866</td>\n",
              "      <td>-50.92779</td>\n",
              "      <td>10.93792</td>\n",
              "      <td>-0.07568</td>\n",
              "      <td>43.20130</td>\n",
              "      <td>-115.00698</td>\n",
              "      <td>-0.05859</td>\n",
              "      <td>39.67068</td>\n",
              "      <td>-0.66345</td>\n",
              "    </tr>\n",
              "    <tr>\n",
              "      <th>3</th>\n",
              "      <td>2001</td>\n",
              "      <td>48.24750</td>\n",
              "      <td>-1.89837</td>\n",
              "      <td>36.29772</td>\n",
              "      <td>2.58776</td>\n",
              "      <td>0.97170</td>\n",
              "      <td>-26.21683</td>\n",
              "      <td>5.05097</td>\n",
              "      <td>-10.34124</td>\n",
              "      <td>3.55005</td>\n",
              "      <td>...</td>\n",
              "      <td>34.57337</td>\n",
              "      <td>-171.70734</td>\n",
              "      <td>-16.96705</td>\n",
              "      <td>-46.67617</td>\n",
              "      <td>-12.51516</td>\n",
              "      <td>82.58061</td>\n",
              "      <td>-72.08993</td>\n",
              "      <td>9.90558</td>\n",
              "      <td>199.62971</td>\n",
              "      <td>18.85382</td>\n",
              "    </tr>\n",
              "    <tr>\n",
              "      <th>4</th>\n",
              "      <td>2001</td>\n",
              "      <td>50.97020</td>\n",
              "      <td>42.20998</td>\n",
              "      <td>67.09964</td>\n",
              "      <td>8.46791</td>\n",
              "      <td>-15.85279</td>\n",
              "      <td>-16.81409</td>\n",
              "      <td>-12.48207</td>\n",
              "      <td>-9.37636</td>\n",
              "      <td>12.63699</td>\n",
              "      <td>...</td>\n",
              "      <td>9.92661</td>\n",
              "      <td>-55.95724</td>\n",
              "      <td>64.92712</td>\n",
              "      <td>-17.72522</td>\n",
              "      <td>-1.49237</td>\n",
              "      <td>-7.50035</td>\n",
              "      <td>51.76631</td>\n",
              "      <td>7.88713</td>\n",
              "      <td>55.66926</td>\n",
              "      <td>28.74903</td>\n",
              "    </tr>\n",
              "  </tbody>\n",
              "</table>\n",
              "<p>5 rows × 91 columns</p>\n",
              "</div>\n",
              "    <div class=\"colab-df-buttons\">\n",
              "\n",
              "  <div class=\"colab-df-container\">\n",
              "    <button class=\"colab-df-convert\" onclick=\"convertToInteractive('df-b1dd860e-6452-452d-8881-f863c2217d26')\"\n",
              "            title=\"Convert this dataframe to an interactive table.\"\n",
              "            style=\"display:none;\">\n",
              "\n",
              "  <svg xmlns=\"http://www.w3.org/2000/svg\" height=\"24px\" viewBox=\"0 -960 960 960\">\n",
              "    <path d=\"M120-120v-720h720v720H120Zm60-500h600v-160H180v160Zm220 220h160v-160H400v160Zm0 220h160v-160H400v160ZM180-400h160v-160H180v160Zm440 0h160v-160H620v160ZM180-180h160v-160H180v160Zm440 0h160v-160H620v160Z\"/>\n",
              "  </svg>\n",
              "    </button>\n",
              "\n",
              "  <style>\n",
              "    .colab-df-container {\n",
              "      display:flex;\n",
              "      gap: 12px;\n",
              "    }\n",
              "\n",
              "    .colab-df-convert {\n",
              "      background-color: #E8F0FE;\n",
              "      border: none;\n",
              "      border-radius: 50%;\n",
              "      cursor: pointer;\n",
              "      display: none;\n",
              "      fill: #1967D2;\n",
              "      height: 32px;\n",
              "      padding: 0 0 0 0;\n",
              "      width: 32px;\n",
              "    }\n",
              "\n",
              "    .colab-df-convert:hover {\n",
              "      background-color: #E2EBFA;\n",
              "      box-shadow: 0px 1px 2px rgba(60, 64, 67, 0.3), 0px 1px 3px 1px rgba(60, 64, 67, 0.15);\n",
              "      fill: #174EA6;\n",
              "    }\n",
              "\n",
              "    .colab-df-buttons div {\n",
              "      margin-bottom: 4px;\n",
              "    }\n",
              "\n",
              "    [theme=dark] .colab-df-convert {\n",
              "      background-color: #3B4455;\n",
              "      fill: #D2E3FC;\n",
              "    }\n",
              "\n",
              "    [theme=dark] .colab-df-convert:hover {\n",
              "      background-color: #434B5C;\n",
              "      box-shadow: 0px 1px 3px 1px rgba(0, 0, 0, 0.15);\n",
              "      filter: drop-shadow(0px 1px 2px rgba(0, 0, 0, 0.3));\n",
              "      fill: #FFFFFF;\n",
              "    }\n",
              "  </style>\n",
              "\n",
              "    <script>\n",
              "      const buttonEl =\n",
              "        document.querySelector('#df-b1dd860e-6452-452d-8881-f863c2217d26 button.colab-df-convert');\n",
              "      buttonEl.style.display =\n",
              "        google.colab.kernel.accessAllowed ? 'block' : 'none';\n",
              "\n",
              "      async function convertToInteractive(key) {\n",
              "        const element = document.querySelector('#df-b1dd860e-6452-452d-8881-f863c2217d26');\n",
              "        const dataTable =\n",
              "          await google.colab.kernel.invokeFunction('convertToInteractive',\n",
              "                                                    [key], {});\n",
              "        if (!dataTable) return;\n",
              "\n",
              "        const docLinkHtml = 'Like what you see? Visit the ' +\n",
              "          '<a target=\"_blank\" href=https://colab.research.google.com/notebooks/data_table.ipynb>data table notebook</a>'\n",
              "          + ' to learn more about interactive tables.';\n",
              "        element.innerHTML = '';\n",
              "        dataTable['output_type'] = 'display_data';\n",
              "        await google.colab.output.renderOutput(dataTable, element);\n",
              "        const docLink = document.createElement('div');\n",
              "        docLink.innerHTML = docLinkHtml;\n",
              "        element.appendChild(docLink);\n",
              "      }\n",
              "    </script>\n",
              "  </div>\n",
              "\n",
              "\n",
              "<div id=\"df-468e1d3a-84ef-4a6d-8a1c-febaf977e558\">\n",
              "  <button class=\"colab-df-quickchart\" onclick=\"quickchart('df-468e1d3a-84ef-4a6d-8a1c-febaf977e558')\"\n",
              "            title=\"Suggest charts\"\n",
              "            style=\"display:none;\">\n",
              "\n",
              "<svg xmlns=\"http://www.w3.org/2000/svg\" height=\"24px\"viewBox=\"0 0 24 24\"\n",
              "     width=\"24px\">\n",
              "    <g>\n",
              "        <path d=\"M19 3H5c-1.1 0-2 .9-2 2v14c0 1.1.9 2 2 2h14c1.1 0 2-.9 2-2V5c0-1.1-.9-2-2-2zM9 17H7v-7h2v7zm4 0h-2V7h2v10zm4 0h-2v-4h2v4z\"/>\n",
              "    </g>\n",
              "</svg>\n",
              "  </button>\n",
              "\n",
              "<style>\n",
              "  .colab-df-quickchart {\n",
              "      --bg-color: #E8F0FE;\n",
              "      --fill-color: #1967D2;\n",
              "      --hover-bg-color: #E2EBFA;\n",
              "      --hover-fill-color: #174EA6;\n",
              "      --disabled-fill-color: #AAA;\n",
              "      --disabled-bg-color: #DDD;\n",
              "  }\n",
              "\n",
              "  [theme=dark] .colab-df-quickchart {\n",
              "      --bg-color: #3B4455;\n",
              "      --fill-color: #D2E3FC;\n",
              "      --hover-bg-color: #434B5C;\n",
              "      --hover-fill-color: #FFFFFF;\n",
              "      --disabled-bg-color: #3B4455;\n",
              "      --disabled-fill-color: #666;\n",
              "  }\n",
              "\n",
              "  .colab-df-quickchart {\n",
              "    background-color: var(--bg-color);\n",
              "    border: none;\n",
              "    border-radius: 50%;\n",
              "    cursor: pointer;\n",
              "    display: none;\n",
              "    fill: var(--fill-color);\n",
              "    height: 32px;\n",
              "    padding: 0;\n",
              "    width: 32px;\n",
              "  }\n",
              "\n",
              "  .colab-df-quickchart:hover {\n",
              "    background-color: var(--hover-bg-color);\n",
              "    box-shadow: 0 1px 2px rgba(60, 64, 67, 0.3), 0 1px 3px 1px rgba(60, 64, 67, 0.15);\n",
              "    fill: var(--button-hover-fill-color);\n",
              "  }\n",
              "\n",
              "  .colab-df-quickchart-complete:disabled,\n",
              "  .colab-df-quickchart-complete:disabled:hover {\n",
              "    background-color: var(--disabled-bg-color);\n",
              "    fill: var(--disabled-fill-color);\n",
              "    box-shadow: none;\n",
              "  }\n",
              "\n",
              "  .colab-df-spinner {\n",
              "    border: 2px solid var(--fill-color);\n",
              "    border-color: transparent;\n",
              "    border-bottom-color: var(--fill-color);\n",
              "    animation:\n",
              "      spin 1s steps(1) infinite;\n",
              "  }\n",
              "\n",
              "  @keyframes spin {\n",
              "    0% {\n",
              "      border-color: transparent;\n",
              "      border-bottom-color: var(--fill-color);\n",
              "      border-left-color: var(--fill-color);\n",
              "    }\n",
              "    20% {\n",
              "      border-color: transparent;\n",
              "      border-left-color: var(--fill-color);\n",
              "      border-top-color: var(--fill-color);\n",
              "    }\n",
              "    30% {\n",
              "      border-color: transparent;\n",
              "      border-left-color: var(--fill-color);\n",
              "      border-top-color: var(--fill-color);\n",
              "      border-right-color: var(--fill-color);\n",
              "    }\n",
              "    40% {\n",
              "      border-color: transparent;\n",
              "      border-right-color: var(--fill-color);\n",
              "      border-top-color: var(--fill-color);\n",
              "    }\n",
              "    60% {\n",
              "      border-color: transparent;\n",
              "      border-right-color: var(--fill-color);\n",
              "    }\n",
              "    80% {\n",
              "      border-color: transparent;\n",
              "      border-right-color: var(--fill-color);\n",
              "      border-bottom-color: var(--fill-color);\n",
              "    }\n",
              "    90% {\n",
              "      border-color: transparent;\n",
              "      border-bottom-color: var(--fill-color);\n",
              "    }\n",
              "  }\n",
              "</style>\n",
              "\n",
              "  <script>\n",
              "    async function quickchart(key) {\n",
              "      const quickchartButtonEl =\n",
              "        document.querySelector('#' + key + ' button');\n",
              "      quickchartButtonEl.disabled = true;  // To prevent multiple clicks.\n",
              "      quickchartButtonEl.classList.add('colab-df-spinner');\n",
              "      try {\n",
              "        const charts = await google.colab.kernel.invokeFunction(\n",
              "            'suggestCharts', [key], {});\n",
              "      } catch (error) {\n",
              "        console.error('Error during call to suggestCharts:', error);\n",
              "      }\n",
              "      quickchartButtonEl.classList.remove('colab-df-spinner');\n",
              "      quickchartButtonEl.classList.add('colab-df-quickchart-complete');\n",
              "    }\n",
              "    (() => {\n",
              "      let quickchartButtonEl =\n",
              "        document.querySelector('#df-468e1d3a-84ef-4a6d-8a1c-febaf977e558 button');\n",
              "      quickchartButtonEl.style.display =\n",
              "        google.colab.kernel.accessAllowed ? 'block' : 'none';\n",
              "    })();\n",
              "  </script>\n",
              "</div>\n",
              "\n",
              "    </div>\n",
              "  </div>\n"
            ],
            "text/plain": [
              "     0         1         2         3         4         5         6         7   \\\n",
              "0  2001  49.94357  21.47114  73.07750   8.74861 -17.40628 -13.09905 -25.01202   \n",
              "1  2001  48.73215  18.42930  70.32679  12.94636 -10.32437 -24.83777   8.76630   \n",
              "2  2001  50.95714  31.85602  55.81851  13.41693  -6.57898 -18.54940  -3.27872   \n",
              "3  2001  48.24750  -1.89837  36.29772   2.58776   0.97170 -26.21683   5.05097   \n",
              "4  2001  50.97020  42.20998  67.09964   8.46791 -15.85279 -16.81409 -12.48207   \n",
              "\n",
              "         8         9   ...        81         82        83        84        85  \\\n",
              "0 -12.23257   7.83089  ...  13.01620  -54.40548  58.99367  15.37344   1.11144   \n",
              "1  -0.92019  18.76548  ...   5.66812  -19.68073  33.04964  42.87836  -9.90378   \n",
              "2  -2.35035  16.07017  ...   3.03800   26.05866 -50.92779  10.93792  -0.07568   \n",
              "3 -10.34124   3.55005  ...  34.57337 -171.70734 -16.96705 -46.67617 -12.51516   \n",
              "4  -9.37636  12.63699  ...   9.92661  -55.95724  64.92712 -17.72522  -1.49237   \n",
              "\n",
              "         86         87        88         89        90  \n",
              "0 -23.08793   68.40795  -1.82223  -27.46348   2.26327  \n",
              "1 -32.22788   70.49388  12.04941   58.43453  26.92061  \n",
              "2  43.20130 -115.00698  -0.05859   39.67068  -0.66345  \n",
              "3  82.58061  -72.08993   9.90558  199.62971  18.85382  \n",
              "4  -7.50035   51.76631   7.88713   55.66926  28.74903  \n",
              "\n",
              "[5 rows x 91 columns]"
            ]
          },
          "execution_count": 227,
          "metadata": {},
          "output_type": "execute_result"
        }
      ],
      "source": [
        "df = pd.read_csv(\"data.txt.zip\", header=None)\n",
        "df.head()"
      ]
    },
    {
      "cell_type": "code",
      "execution_count": null,
      "metadata": {
        "colab": {
          "base_uri": "https://localhost:8080/"
        },
        "collapsed": true,
        "id": "ZWzkso657ffF",
        "outputId": "f2006b04-3b55-44be-8931-305a23a8abb7"
      },
      "outputs": [
        {
          "name": "stdout",
          "output_type": "stream",
          "text": [
            "<class 'pandas.core.frame.DataFrame'>\n",
            "RangeIndex: 515345 entries, 0 to 515344\n",
            "Data columns (total 91 columns):\n",
            " #   Column  Non-Null Count   Dtype  \n",
            "---  ------  --------------   -----  \n",
            " 0   0       515345 non-null  int64  \n",
            " 1   1       515345 non-null  float64\n",
            " 2   2       515345 non-null  float64\n",
            " 3   3       515345 non-null  float64\n",
            " 4   4       515345 non-null  float64\n",
            " 5   5       515345 non-null  float64\n",
            " 6   6       515345 non-null  float64\n",
            " 7   7       515345 non-null  float64\n",
            " 8   8       515345 non-null  float64\n",
            " 9   9       515345 non-null  float64\n",
            " 10  10      515345 non-null  float64\n",
            " 11  11      515345 non-null  float64\n",
            " 12  12      515345 non-null  float64\n",
            " 13  13      515345 non-null  float64\n",
            " 14  14      515345 non-null  float64\n",
            " 15  15      515345 non-null  float64\n",
            " 16  16      515345 non-null  float64\n",
            " 17  17      515345 non-null  float64\n",
            " 18  18      515345 non-null  float64\n",
            " 19  19      515345 non-null  float64\n",
            " 20  20      515345 non-null  float64\n",
            " 21  21      515345 non-null  float64\n",
            " 22  22      515345 non-null  float64\n",
            " 23  23      515345 non-null  float64\n",
            " 24  24      515345 non-null  float64\n",
            " 25  25      515345 non-null  float64\n",
            " 26  26      515345 non-null  float64\n",
            " 27  27      515345 non-null  float64\n",
            " 28  28      515345 non-null  float64\n",
            " 29  29      515345 non-null  float64\n",
            " 30  30      515345 non-null  float64\n",
            " 31  31      515345 non-null  float64\n",
            " 32  32      515345 non-null  float64\n",
            " 33  33      515345 non-null  float64\n",
            " 34  34      515345 non-null  float64\n",
            " 35  35      515345 non-null  float64\n",
            " 36  36      515345 non-null  float64\n",
            " 37  37      515345 non-null  float64\n",
            " 38  38      515345 non-null  float64\n",
            " 39  39      515345 non-null  float64\n",
            " 40  40      515345 non-null  float64\n",
            " 41  41      515345 non-null  float64\n",
            " 42  42      515345 non-null  float64\n",
            " 43  43      515345 non-null  float64\n",
            " 44  44      515345 non-null  float64\n",
            " 45  45      515345 non-null  float64\n",
            " 46  46      515345 non-null  float64\n",
            " 47  47      515345 non-null  float64\n",
            " 48  48      515345 non-null  float64\n",
            " 49  49      515345 non-null  float64\n",
            " 50  50      515345 non-null  float64\n",
            " 51  51      515345 non-null  float64\n",
            " 52  52      515345 non-null  float64\n",
            " 53  53      515345 non-null  float64\n",
            " 54  54      515345 non-null  float64\n",
            " 55  55      515345 non-null  float64\n",
            " 56  56      515345 non-null  float64\n",
            " 57  57      515345 non-null  float64\n",
            " 58  58      515345 non-null  float64\n",
            " 59  59      515345 non-null  float64\n",
            " 60  60      515345 non-null  float64\n",
            " 61  61      515345 non-null  float64\n",
            " 62  62      515345 non-null  float64\n",
            " 63  63      515345 non-null  float64\n",
            " 64  64      515345 non-null  float64\n",
            " 65  65      515345 non-null  float64\n",
            " 66  66      515345 non-null  float64\n",
            " 67  67      515345 non-null  float64\n",
            " 68  68      515345 non-null  float64\n",
            " 69  69      515345 non-null  float64\n",
            " 70  70      515345 non-null  float64\n",
            " 71  71      515345 non-null  float64\n",
            " 72  72      515345 non-null  float64\n",
            " 73  73      515345 non-null  float64\n",
            " 74  74      515345 non-null  float64\n",
            " 75  75      515345 non-null  float64\n",
            " 76  76      515345 non-null  float64\n",
            " 77  77      515345 non-null  float64\n",
            " 78  78      515345 non-null  float64\n",
            " 79  79      515345 non-null  float64\n",
            " 80  80      515345 non-null  float64\n",
            " 81  81      515345 non-null  float64\n",
            " 82  82      515345 non-null  float64\n",
            " 83  83      515345 non-null  float64\n",
            " 84  84      515345 non-null  float64\n",
            " 85  85      515345 non-null  float64\n",
            " 86  86      515345 non-null  float64\n",
            " 87  87      515345 non-null  float64\n",
            " 88  88      515345 non-null  float64\n",
            " 89  89      515345 non-null  float64\n",
            " 90  90      515345 non-null  float64\n",
            "dtypes: float64(90), int64(1)\n",
            "memory usage: 357.8 MB\n"
          ]
        }
      ],
      "source": [
        "df.info()"
      ]
    },
    {
      "cell_type": "markdown",
      "metadata": {
        "id": "B8c9cHe1M6vI"
      },
      "source": [
        "пропуски отсутствуют"
      ]
    },
    {
      "cell_type": "code",
      "execution_count": null,
      "metadata": {
        "colab": {
          "base_uri": "https://localhost:8080/",
          "height": 349
        },
        "id": "xltMK-L78XaB",
        "outputId": "60f89061-7168-4288-baee-6b718f76ff63"
      },
      "outputs": [
        {
          "data": {
            "application/vnd.google.colaboratory.intrinsic+json": {
              "type": "dataframe"
            },
            "text/html": [
              "\n",
              "  <div id=\"df-8fb3a7cb-6fcd-4f90-92ac-5935b31d3bdd\" class=\"colab-df-container\">\n",
              "    <div>\n",
              "<style scoped>\n",
              "    .dataframe tbody tr th:only-of-type {\n",
              "        vertical-align: middle;\n",
              "    }\n",
              "\n",
              "    .dataframe tbody tr th {\n",
              "        vertical-align: top;\n",
              "    }\n",
              "\n",
              "    .dataframe thead th {\n",
              "        text-align: right;\n",
              "    }\n",
              "</style>\n",
              "<table border=\"1\" class=\"dataframe\">\n",
              "  <thead>\n",
              "    <tr style=\"text-align: right;\">\n",
              "      <th></th>\n",
              "      <th>0</th>\n",
              "      <th>1</th>\n",
              "      <th>2</th>\n",
              "      <th>3</th>\n",
              "      <th>4</th>\n",
              "      <th>5</th>\n",
              "      <th>6</th>\n",
              "      <th>7</th>\n",
              "      <th>8</th>\n",
              "      <th>9</th>\n",
              "      <th>...</th>\n",
              "      <th>81</th>\n",
              "      <th>82</th>\n",
              "      <th>83</th>\n",
              "      <th>84</th>\n",
              "      <th>85</th>\n",
              "      <th>86</th>\n",
              "      <th>87</th>\n",
              "      <th>88</th>\n",
              "      <th>89</th>\n",
              "      <th>90</th>\n",
              "    </tr>\n",
              "  </thead>\n",
              "  <tbody>\n",
              "    <tr>\n",
              "      <th>count</th>\n",
              "      <td>515345.000000</td>\n",
              "      <td>515345.000000</td>\n",
              "      <td>515345.000000</td>\n",
              "      <td>515345.000000</td>\n",
              "      <td>515345.000000</td>\n",
              "      <td>515345.000000</td>\n",
              "      <td>515345.000000</td>\n",
              "      <td>515345.000000</td>\n",
              "      <td>515345.000000</td>\n",
              "      <td>515345.000000</td>\n",
              "      <td>...</td>\n",
              "      <td>515345.000000</td>\n",
              "      <td>515345.000000</td>\n",
              "      <td>515345.000000</td>\n",
              "      <td>515345.000000</td>\n",
              "      <td>515345.000000</td>\n",
              "      <td>515345.000000</td>\n",
              "      <td>515345.000000</td>\n",
              "      <td>515345.000000</td>\n",
              "      <td>515345.000000</td>\n",
              "      <td>515345.000000</td>\n",
              "    </tr>\n",
              "    <tr>\n",
              "      <th>mean</th>\n",
              "      <td>1998.397082</td>\n",
              "      <td>43.387126</td>\n",
              "      <td>1.289554</td>\n",
              "      <td>8.658347</td>\n",
              "      <td>1.164124</td>\n",
              "      <td>-6.553601</td>\n",
              "      <td>-9.521975</td>\n",
              "      <td>-2.391089</td>\n",
              "      <td>-1.793236</td>\n",
              "      <td>3.727876</td>\n",
              "      <td>...</td>\n",
              "      <td>15.755406</td>\n",
              "      <td>-73.461500</td>\n",
              "      <td>41.542422</td>\n",
              "      <td>37.934119</td>\n",
              "      <td>0.315751</td>\n",
              "      <td>17.669213</td>\n",
              "      <td>-26.315336</td>\n",
              "      <td>4.458641</td>\n",
              "      <td>20.035136</td>\n",
              "      <td>1.329105</td>\n",
              "    </tr>\n",
              "    <tr>\n",
              "      <th>std</th>\n",
              "      <td>10.931046</td>\n",
              "      <td>6.067558</td>\n",
              "      <td>51.580351</td>\n",
              "      <td>35.268585</td>\n",
              "      <td>16.322790</td>\n",
              "      <td>22.860785</td>\n",
              "      <td>12.857751</td>\n",
              "      <td>14.571873</td>\n",
              "      <td>7.963827</td>\n",
              "      <td>10.582861</td>\n",
              "      <td>...</td>\n",
              "      <td>32.099635</td>\n",
              "      <td>175.618889</td>\n",
              "      <td>122.228799</td>\n",
              "      <td>95.050631</td>\n",
              "      <td>16.161764</td>\n",
              "      <td>114.427905</td>\n",
              "      <td>173.977336</td>\n",
              "      <td>13.346557</td>\n",
              "      <td>185.558247</td>\n",
              "      <td>22.088576</td>\n",
              "    </tr>\n",
              "    <tr>\n",
              "      <th>min</th>\n",
              "      <td>1922.000000</td>\n",
              "      <td>1.749000</td>\n",
              "      <td>-337.092500</td>\n",
              "      <td>-301.005060</td>\n",
              "      <td>-154.183580</td>\n",
              "      <td>-181.953370</td>\n",
              "      <td>-81.794290</td>\n",
              "      <td>-188.214000</td>\n",
              "      <td>-72.503850</td>\n",
              "      <td>-126.479040</td>\n",
              "      <td>...</td>\n",
              "      <td>-437.722030</td>\n",
              "      <td>-4402.376440</td>\n",
              "      <td>-1810.689190</td>\n",
              "      <td>-3098.350310</td>\n",
              "      <td>-341.789120</td>\n",
              "      <td>-3168.924570</td>\n",
              "      <td>-4319.992320</td>\n",
              "      <td>-236.039260</td>\n",
              "      <td>-7458.378150</td>\n",
              "      <td>-381.424430</td>\n",
              "    </tr>\n",
              "    <tr>\n",
              "      <th>25%</th>\n",
              "      <td>1994.000000</td>\n",
              "      <td>39.954690</td>\n",
              "      <td>-26.059520</td>\n",
              "      <td>-11.462710</td>\n",
              "      <td>-8.487500</td>\n",
              "      <td>-20.666450</td>\n",
              "      <td>-18.440990</td>\n",
              "      <td>-10.780600</td>\n",
              "      <td>-6.468420</td>\n",
              "      <td>-2.293660</td>\n",
              "      <td>...</td>\n",
              "      <td>-1.812650</td>\n",
              "      <td>-139.555160</td>\n",
              "      <td>-20.986900</td>\n",
              "      <td>-4.669540</td>\n",
              "      <td>-6.781590</td>\n",
              "      <td>-31.580610</td>\n",
              "      <td>-101.530300</td>\n",
              "      <td>-2.566090</td>\n",
              "      <td>-59.509270</td>\n",
              "      <td>-8.820210</td>\n",
              "    </tr>\n",
              "    <tr>\n",
              "      <th>50%</th>\n",
              "      <td>2002.000000</td>\n",
              "      <td>44.258500</td>\n",
              "      <td>8.417850</td>\n",
              "      <td>10.476320</td>\n",
              "      <td>-0.652840</td>\n",
              "      <td>-6.007770</td>\n",
              "      <td>-11.188390</td>\n",
              "      <td>-2.046670</td>\n",
              "      <td>-1.736450</td>\n",
              "      <td>3.822310</td>\n",
              "      <td>...</td>\n",
              "      <td>9.171850</td>\n",
              "      <td>-53.090060</td>\n",
              "      <td>28.791060</td>\n",
              "      <td>33.623630</td>\n",
              "      <td>0.820840</td>\n",
              "      <td>15.598470</td>\n",
              "      <td>-21.204120</td>\n",
              "      <td>3.117640</td>\n",
              "      <td>7.759730</td>\n",
              "      <td>0.053050</td>\n",
              "    </tr>\n",
              "    <tr>\n",
              "      <th>75%</th>\n",
              "      <td>2006.000000</td>\n",
              "      <td>47.833890</td>\n",
              "      <td>36.124010</td>\n",
              "      <td>29.764820</td>\n",
              "      <td>8.787540</td>\n",
              "      <td>7.741870</td>\n",
              "      <td>-2.388960</td>\n",
              "      <td>6.508580</td>\n",
              "      <td>2.913450</td>\n",
              "      <td>9.961820</td>\n",
              "      <td>...</td>\n",
              "      <td>26.274480</td>\n",
              "      <td>13.478730</td>\n",
              "      <td>89.661770</td>\n",
              "      <td>77.785800</td>\n",
              "      <td>8.470990</td>\n",
              "      <td>67.794960</td>\n",
              "      <td>52.389330</td>\n",
              "      <td>9.967740</td>\n",
              "      <td>86.351610</td>\n",
              "      <td>9.679520</td>\n",
              "    </tr>\n",
              "    <tr>\n",
              "      <th>max</th>\n",
              "      <td>2011.000000</td>\n",
              "      <td>61.970140</td>\n",
              "      <td>384.065730</td>\n",
              "      <td>322.851430</td>\n",
              "      <td>335.771820</td>\n",
              "      <td>262.068870</td>\n",
              "      <td>166.236890</td>\n",
              "      <td>172.402680</td>\n",
              "      <td>126.741270</td>\n",
              "      <td>146.297950</td>\n",
              "      <td>...</td>\n",
              "      <td>840.973380</td>\n",
              "      <td>4469.454870</td>\n",
              "      <td>3210.701700</td>\n",
              "      <td>1734.079690</td>\n",
              "      <td>260.544900</td>\n",
              "      <td>3662.065650</td>\n",
              "      <td>2833.608950</td>\n",
              "      <td>463.419500</td>\n",
              "      <td>7393.398440</td>\n",
              "      <td>677.899630</td>\n",
              "    </tr>\n",
              "  </tbody>\n",
              "</table>\n",
              "<p>8 rows × 91 columns</p>\n",
              "</div>\n",
              "    <div class=\"colab-df-buttons\">\n",
              "\n",
              "  <div class=\"colab-df-container\">\n",
              "    <button class=\"colab-df-convert\" onclick=\"convertToInteractive('df-8fb3a7cb-6fcd-4f90-92ac-5935b31d3bdd')\"\n",
              "            title=\"Convert this dataframe to an interactive table.\"\n",
              "            style=\"display:none;\">\n",
              "\n",
              "  <svg xmlns=\"http://www.w3.org/2000/svg\" height=\"24px\" viewBox=\"0 -960 960 960\">\n",
              "    <path d=\"M120-120v-720h720v720H120Zm60-500h600v-160H180v160Zm220 220h160v-160H400v160Zm0 220h160v-160H400v160ZM180-400h160v-160H180v160Zm440 0h160v-160H620v160ZM180-180h160v-160H180v160Zm440 0h160v-160H620v160Z\"/>\n",
              "  </svg>\n",
              "    </button>\n",
              "\n",
              "  <style>\n",
              "    .colab-df-container {\n",
              "      display:flex;\n",
              "      gap: 12px;\n",
              "    }\n",
              "\n",
              "    .colab-df-convert {\n",
              "      background-color: #E8F0FE;\n",
              "      border: none;\n",
              "      border-radius: 50%;\n",
              "      cursor: pointer;\n",
              "      display: none;\n",
              "      fill: #1967D2;\n",
              "      height: 32px;\n",
              "      padding: 0 0 0 0;\n",
              "      width: 32px;\n",
              "    }\n",
              "\n",
              "    .colab-df-convert:hover {\n",
              "      background-color: #E2EBFA;\n",
              "      box-shadow: 0px 1px 2px rgba(60, 64, 67, 0.3), 0px 1px 3px 1px rgba(60, 64, 67, 0.15);\n",
              "      fill: #174EA6;\n",
              "    }\n",
              "\n",
              "    .colab-df-buttons div {\n",
              "      margin-bottom: 4px;\n",
              "    }\n",
              "\n",
              "    [theme=dark] .colab-df-convert {\n",
              "      background-color: #3B4455;\n",
              "      fill: #D2E3FC;\n",
              "    }\n",
              "\n",
              "    [theme=dark] .colab-df-convert:hover {\n",
              "      background-color: #434B5C;\n",
              "      box-shadow: 0px 1px 3px 1px rgba(0, 0, 0, 0.15);\n",
              "      filter: drop-shadow(0px 1px 2px rgba(0, 0, 0, 0.3));\n",
              "      fill: #FFFFFF;\n",
              "    }\n",
              "  </style>\n",
              "\n",
              "    <script>\n",
              "      const buttonEl =\n",
              "        document.querySelector('#df-8fb3a7cb-6fcd-4f90-92ac-5935b31d3bdd button.colab-df-convert');\n",
              "      buttonEl.style.display =\n",
              "        google.colab.kernel.accessAllowed ? 'block' : 'none';\n",
              "\n",
              "      async function convertToInteractive(key) {\n",
              "        const element = document.querySelector('#df-8fb3a7cb-6fcd-4f90-92ac-5935b31d3bdd');\n",
              "        const dataTable =\n",
              "          await google.colab.kernel.invokeFunction('convertToInteractive',\n",
              "                                                    [key], {});\n",
              "        if (!dataTable) return;\n",
              "\n",
              "        const docLinkHtml = 'Like what you see? Visit the ' +\n",
              "          '<a target=\"_blank\" href=https://colab.research.google.com/notebooks/data_table.ipynb>data table notebook</a>'\n",
              "          + ' to learn more about interactive tables.';\n",
              "        element.innerHTML = '';\n",
              "        dataTable['output_type'] = 'display_data';\n",
              "        await google.colab.output.renderOutput(dataTable, element);\n",
              "        const docLink = document.createElement('div');\n",
              "        docLink.innerHTML = docLinkHtml;\n",
              "        element.appendChild(docLink);\n",
              "      }\n",
              "    </script>\n",
              "  </div>\n",
              "\n",
              "\n",
              "<div id=\"df-e9289b6c-5930-4fbd-bd19-519f46bb3cab\">\n",
              "  <button class=\"colab-df-quickchart\" onclick=\"quickchart('df-e9289b6c-5930-4fbd-bd19-519f46bb3cab')\"\n",
              "            title=\"Suggest charts\"\n",
              "            style=\"display:none;\">\n",
              "\n",
              "<svg xmlns=\"http://www.w3.org/2000/svg\" height=\"24px\"viewBox=\"0 0 24 24\"\n",
              "     width=\"24px\">\n",
              "    <g>\n",
              "        <path d=\"M19 3H5c-1.1 0-2 .9-2 2v14c0 1.1.9 2 2 2h14c1.1 0 2-.9 2-2V5c0-1.1-.9-2-2-2zM9 17H7v-7h2v7zm4 0h-2V7h2v10zm4 0h-2v-4h2v4z\"/>\n",
              "    </g>\n",
              "</svg>\n",
              "  </button>\n",
              "\n",
              "<style>\n",
              "  .colab-df-quickchart {\n",
              "      --bg-color: #E8F0FE;\n",
              "      --fill-color: #1967D2;\n",
              "      --hover-bg-color: #E2EBFA;\n",
              "      --hover-fill-color: #174EA6;\n",
              "      --disabled-fill-color: #AAA;\n",
              "      --disabled-bg-color: #DDD;\n",
              "  }\n",
              "\n",
              "  [theme=dark] .colab-df-quickchart {\n",
              "      --bg-color: #3B4455;\n",
              "      --fill-color: #D2E3FC;\n",
              "      --hover-bg-color: #434B5C;\n",
              "      --hover-fill-color: #FFFFFF;\n",
              "      --disabled-bg-color: #3B4455;\n",
              "      --disabled-fill-color: #666;\n",
              "  }\n",
              "\n",
              "  .colab-df-quickchart {\n",
              "    background-color: var(--bg-color);\n",
              "    border: none;\n",
              "    border-radius: 50%;\n",
              "    cursor: pointer;\n",
              "    display: none;\n",
              "    fill: var(--fill-color);\n",
              "    height: 32px;\n",
              "    padding: 0;\n",
              "    width: 32px;\n",
              "  }\n",
              "\n",
              "  .colab-df-quickchart:hover {\n",
              "    background-color: var(--hover-bg-color);\n",
              "    box-shadow: 0 1px 2px rgba(60, 64, 67, 0.3), 0 1px 3px 1px rgba(60, 64, 67, 0.15);\n",
              "    fill: var(--button-hover-fill-color);\n",
              "  }\n",
              "\n",
              "  .colab-df-quickchart-complete:disabled,\n",
              "  .colab-df-quickchart-complete:disabled:hover {\n",
              "    background-color: var(--disabled-bg-color);\n",
              "    fill: var(--disabled-fill-color);\n",
              "    box-shadow: none;\n",
              "  }\n",
              "\n",
              "  .colab-df-spinner {\n",
              "    border: 2px solid var(--fill-color);\n",
              "    border-color: transparent;\n",
              "    border-bottom-color: var(--fill-color);\n",
              "    animation:\n",
              "      spin 1s steps(1) infinite;\n",
              "  }\n",
              "\n",
              "  @keyframes spin {\n",
              "    0% {\n",
              "      border-color: transparent;\n",
              "      border-bottom-color: var(--fill-color);\n",
              "      border-left-color: var(--fill-color);\n",
              "    }\n",
              "    20% {\n",
              "      border-color: transparent;\n",
              "      border-left-color: var(--fill-color);\n",
              "      border-top-color: var(--fill-color);\n",
              "    }\n",
              "    30% {\n",
              "      border-color: transparent;\n",
              "      border-left-color: var(--fill-color);\n",
              "      border-top-color: var(--fill-color);\n",
              "      border-right-color: var(--fill-color);\n",
              "    }\n",
              "    40% {\n",
              "      border-color: transparent;\n",
              "      border-right-color: var(--fill-color);\n",
              "      border-top-color: var(--fill-color);\n",
              "    }\n",
              "    60% {\n",
              "      border-color: transparent;\n",
              "      border-right-color: var(--fill-color);\n",
              "    }\n",
              "    80% {\n",
              "      border-color: transparent;\n",
              "      border-right-color: var(--fill-color);\n",
              "      border-bottom-color: var(--fill-color);\n",
              "    }\n",
              "    90% {\n",
              "      border-color: transparent;\n",
              "      border-bottom-color: var(--fill-color);\n",
              "    }\n",
              "  }\n",
              "</style>\n",
              "\n",
              "  <script>\n",
              "    async function quickchart(key) {\n",
              "      const quickchartButtonEl =\n",
              "        document.querySelector('#' + key + ' button');\n",
              "      quickchartButtonEl.disabled = true;  // To prevent multiple clicks.\n",
              "      quickchartButtonEl.classList.add('colab-df-spinner');\n",
              "      try {\n",
              "        const charts = await google.colab.kernel.invokeFunction(\n",
              "            'suggestCharts', [key], {});\n",
              "      } catch (error) {\n",
              "        console.error('Error during call to suggestCharts:', error);\n",
              "      }\n",
              "      quickchartButtonEl.classList.remove('colab-df-spinner');\n",
              "      quickchartButtonEl.classList.add('colab-df-quickchart-complete');\n",
              "    }\n",
              "    (() => {\n",
              "      let quickchartButtonEl =\n",
              "        document.querySelector('#df-e9289b6c-5930-4fbd-bd19-519f46bb3cab button');\n",
              "      quickchartButtonEl.style.display =\n",
              "        google.colab.kernel.accessAllowed ? 'block' : 'none';\n",
              "    })();\n",
              "  </script>\n",
              "</div>\n",
              "\n",
              "    </div>\n",
              "  </div>\n"
            ],
            "text/plain": [
              "                  0              1              2              3   \\\n",
              "count  515345.000000  515345.000000  515345.000000  515345.000000   \n",
              "mean     1998.397082      43.387126       1.289554       8.658347   \n",
              "std        10.931046       6.067558      51.580351      35.268585   \n",
              "min      1922.000000       1.749000    -337.092500    -301.005060   \n",
              "25%      1994.000000      39.954690     -26.059520     -11.462710   \n",
              "50%      2002.000000      44.258500       8.417850      10.476320   \n",
              "75%      2006.000000      47.833890      36.124010      29.764820   \n",
              "max      2011.000000      61.970140     384.065730     322.851430   \n",
              "\n",
              "                  4              5              6              7   \\\n",
              "count  515345.000000  515345.000000  515345.000000  515345.000000   \n",
              "mean        1.164124      -6.553601      -9.521975      -2.391089   \n",
              "std        16.322790      22.860785      12.857751      14.571873   \n",
              "min      -154.183580    -181.953370     -81.794290    -188.214000   \n",
              "25%        -8.487500     -20.666450     -18.440990     -10.780600   \n",
              "50%        -0.652840      -6.007770     -11.188390      -2.046670   \n",
              "75%         8.787540       7.741870      -2.388960       6.508580   \n",
              "max       335.771820     262.068870     166.236890     172.402680   \n",
              "\n",
              "                  8              9   ...             81             82  \\\n",
              "count  515345.000000  515345.000000  ...  515345.000000  515345.000000   \n",
              "mean       -1.793236       3.727876  ...      15.755406     -73.461500   \n",
              "std         7.963827      10.582861  ...      32.099635     175.618889   \n",
              "min       -72.503850    -126.479040  ...    -437.722030   -4402.376440   \n",
              "25%        -6.468420      -2.293660  ...      -1.812650    -139.555160   \n",
              "50%        -1.736450       3.822310  ...       9.171850     -53.090060   \n",
              "75%         2.913450       9.961820  ...      26.274480      13.478730   \n",
              "max       126.741270     146.297950  ...     840.973380    4469.454870   \n",
              "\n",
              "                  83             84             85             86  \\\n",
              "count  515345.000000  515345.000000  515345.000000  515345.000000   \n",
              "mean       41.542422      37.934119       0.315751      17.669213   \n",
              "std       122.228799      95.050631      16.161764     114.427905   \n",
              "min     -1810.689190   -3098.350310    -341.789120   -3168.924570   \n",
              "25%       -20.986900      -4.669540      -6.781590     -31.580610   \n",
              "50%        28.791060      33.623630       0.820840      15.598470   \n",
              "75%        89.661770      77.785800       8.470990      67.794960   \n",
              "max      3210.701700    1734.079690     260.544900    3662.065650   \n",
              "\n",
              "                  87             88             89             90  \n",
              "count  515345.000000  515345.000000  515345.000000  515345.000000  \n",
              "mean      -26.315336       4.458641      20.035136       1.329105  \n",
              "std       173.977336      13.346557     185.558247      22.088576  \n",
              "min     -4319.992320    -236.039260   -7458.378150    -381.424430  \n",
              "25%      -101.530300      -2.566090     -59.509270      -8.820210  \n",
              "50%       -21.204120       3.117640       7.759730       0.053050  \n",
              "75%        52.389330       9.967740      86.351610       9.679520  \n",
              "max      2833.608950     463.419500    7393.398440     677.899630  \n",
              "\n",
              "[8 rows x 91 columns]"
            ]
          },
          "execution_count": 4,
          "metadata": {},
          "output_type": "execute_result"
        }
      ],
      "source": [
        "df.describe()"
      ]
    },
    {
      "cell_type": "code",
      "execution_count": 90,
      "metadata": {
        "colab": {
          "base_uri": "https://localhost:8080/",
          "height": 542
        },
        "id": "HPxKMgQg8lO5",
        "outputId": "7056657b-2dc5-4874-fee4-71393b0fd2d3"
      },
      "outputs": [
        {
          "data": {
            "image/png": "[encoded data removed]",
            "text/plain": [
              "<Figure size 1000x600 with 1 Axes>"
            ]
          },
          "metadata": {},
          "output_type": "display_data"
        }
      ],
      "source": [
        "plt.figure(figsize=(10, 6))\n",
        "sns.histplot(df[0])\n",
        "plt.xlabel('Год выпуска')\n",
        "plt.ylabel('Количество песен')\n",
        "plt.show()"
      ]
    },
    {
      "cell_type": "markdown",
      "metadata": {
        "id": "LK1ihTwYBKas"
      },
      "source": [
        "У нас 90 признаков (12 = timbre average, 78 = timbre covariance), что достаточно много. Возможно, стоит применить методы снижения размерности (PCA).  \n",
        "Данные несбалансированы по годам.  \n",
        "Разброс значений у признаков сильно отличается, поэтому их нужно масштабировать."
      ]
    },
    {
      "cell_type": "code",
      "execution_count": 228,
      "metadata": {
        "id": "n4wnRJT1778j"
      },
      "outputs": [],
      "source": [
        "X = df.iloc[:, 1:].values\n",
        "y = df.iloc[:, 0].values\n",
        "\n",
        "train_size = 463715\n",
        "X_train = X[:train_size, :]\n",
        "y_train = y[:train_size]\n",
        "X_test = X[train_size:, :]\n",
        "y_test = y[train_size:]"
      ]
    },
    {
      "cell_type": "markdown",
      "metadata": {
        "id": "_386JE_o5gOd"
      },
      "source": [
        "## Задание 0. (0 баллов, но при невыполнении максимум за все задание &mdash; 0 баллов)\n",
        "\n",
        "Мы будем использовать RMSE как метрику качества. Для самого первого бейзлайна обучите `Ridge` регрессию из `sklearn`. Кроме того, посчитайте качество при наилучшем константном прогнозе."
      ]
    },
    {
      "cell_type": "code",
      "execution_count": null,
      "metadata": {
        "colab": {
          "base_uri": "https://localhost:8080/"
        },
        "id": "Cmu3HJlxC9T-",
        "outputId": "0c3b1226-f654-4c4b-ba27-cfef3cceca56"
      },
      "outputs": [
        {
          "name": "stdout",
          "output_type": "stream",
          "text": [
            "RMSE 10.85246390513634\n"
          ]
        }
      ],
      "source": [
        "from sklearn.dummy import DummyRegressor\n",
        "\n",
        "# обучение DummyRegressor (константный прогноз)\n",
        "dummy_regressor = DummyRegressor(strategy='mean')\n",
        "dummy_regressor.fit(X_train, y_train)\n",
        "ypred_dummy = dummy_regressor.predict(X_test)\n",
        "\n",
        "rmse_dummy = root_mean_squared_error(y_test, ypred_dummy)\n",
        "print(f'RMSE {rmse_dummy}')"
      ]
    },
    {
      "cell_type": "code",
      "execution_count": 229,
      "metadata": {
        "id": "otwuisa56MLr"
      },
      "outputs": [],
      "source": [
        "# масштабирование признаков\n",
        "scaler = StandardScaler()\n",
        "X_train = scaler.fit_transform(X_train)\n",
        "X_test = scaler.transform(X_test)"
      ]
    },
    {
      "cell_type": "code",
      "execution_count": null,
      "metadata": {
        "id": "LRjfPLJuSQpR"
      },
      "outputs": [],
      "source": [
        "# PCA\n",
        "# pca = PCA(n_components=0.9)\n",
        "# X_train = pca.fit_transform(X_train)\n",
        "# X_test = pca.transform(X_test)\n",
        "# print(f'Количество признаков после PCA {pca.n_components_}')"
      ]
    },
    {
      "cell_type": "code",
      "execution_count": null,
      "metadata": {
        "colab": {
          "base_uri": "https://localhost:8080/"
        },
        "id": "apsQHW0XSamM",
        "outputId": "3365ba52-c9a1-4137-bb03-36e476a2fa36"
      },
      "outputs": [
        {
          "data": {
            "text/plain": [
              "382.7494478516315"
            ]
          },
          "execution_count": 11,
          "metadata": {},
          "output_type": "execute_result"
        }
      ],
      "source": [
        "from sklearn.linear_model import Ridge, RidgeCV\n",
        "\n",
        "n_alphas = 200\n",
        "ridge_alphas = np.logspace(-2, 6, n_alphas)\n",
        "\n",
        "ridge_cv = RidgeCV(alphas=ridge_alphas,\n",
        "                   scoring='neg_mean_squared_error',\n",
        "                   cv=3)\n",
        "ridge_cv.fit(X_train, y_train)\n",
        "ridge_cv.alpha_"
      ]
    },
    {
      "cell_type": "code",
      "execution_count": null,
      "metadata": {
        "colab": {
          "base_uri": "https://localhost:8080/"
        },
        "id": "L0pOViLi7KsR",
        "outputId": "76f29eac-9cd7-4a3b-d32b-f4170bddf930"
      },
      "outputs": [
        {
          "name": "stdout",
          "output_type": "stream",
          "text": [
            "RMSE 9.51021278851268\n"
          ]
        }
      ],
      "source": [
        "# обучение Ridge\n",
        "ridge = Ridge(alpha=ridge_cv.alpha_)\n",
        "ridge.fit(X_train, y_train)\n",
        "\n",
        "ypred_ridge = ridge.predict(X_test)\n",
        "\n",
        "rmse_ridge = root_mean_squared_error(y_test, ypred_ridge)\n",
        "print(f'RMSE {rmse_ridge}')"
      ]
    },
    {
      "cell_type": "markdown",
      "metadata": {
        "id": "_6ilBKYt6OdD"
      },
      "source": [
        "## Задание 1. (максимум 10 баллов)\n",
        "\n",
        "Реализуйте обучение и тестирование нейронной сети для предоставленного вам набора данных. Соотношение между полученным значением метрики на тестовой выборке и баллами за задание следующее:\n",
        "\n",
        "- $\\text{RMSE} \\le 9.00 $ &mdash; 4 балла\n",
        "- $\\text{RMSE} \\le 8.90 $ &mdash; 6 баллов\n",
        "- $\\text{RMSE} \\le 8.80 $ &mdash; 8 баллов\n",
        "- $\\text{RMSE} \\le 8.75 $ &mdash; 10 баллов\n",
        "\n",
        "Есть несколько правил, которых вам нужно придерживаться:\n",
        "\n",
        "- Весь пайплайн обучения должен быть написан на PyTorch. При этом вы можете пользоваться другими библиотеками (`numpy`, `sklearn` и пр.), но только для обработки данных. То есть как угодно трансформировать данные и считать метрики с помощью этих библиотек можно, а импортировать модели из `sklearn` и выбивать с их помощью требуемое качество &mdash; нельзя. Также нельзя пользоваться библиотеками, для которых сам PyTorch является зависимостью.\n",
        "\n",
        "- Мы никак не ограничиваем ваш выбор архитектуры модели, но скорее всего вам будет достаточно полносвязной нейронной сети.\n",
        "\n",
        "- Для обучения запрещается использовать какие-либо иные данные, кроме обучающей выборки.\n",
        "\n",
        "- Ансамблирование моделей запрещено.\n",
        "\n",
        "### Полезные советы:\n",
        "\n",
        "- Очень вряд ли, что у вас с первого раза получится выбить качество на 10 баллов, поэтому пробуйте разные архитектуры, оптимизаторы и значения гиперпараметров. В идеале при запуске каждого нового эксперимента вы должны менять что-то одно, чтобы точно знать, как этот фактор влияет на качество.\n",
        "\n",
        "- Не забудьте, что для улучшения качества модели вам поможет **нормировка таргета**.\n",
        "\n",
        "- Тот факт, что мы занимаемся глубинным обучением, не означает, что стоит забывать про приемы, использующиеся в классическом машинном обучении. Так что обязательно проводите исследовательский анализ данных, отрисовывайте нужные графики и не забывайте про масштабирование и подбор гиперпараметров.\n",
        "\n",
        "- Вы наверняка столкнетесь с тем, что ваша нейронная сеть будет сильно переобучаться. Для нейросетей существуют специальные методы регуляризации, например, dropout ([статья](https://jmlr.org/papers/volume15/srivastava14a/srivastava14a.pdf)) и weight decay ([блогпост](https://towardsdatascience.com/weight-decay-l2-regularization-90a9e17713cd)). Они, разумеется, реализованы в PyTorch. Попробуйте поэкспериментировать с ними.\n",
        "\n",
        "- Если вы чего-то не знаете, не гнушайтесь гуглить. В интернете очень много полезной информации, туториалов и советов по глубинному обучению в целом и по PyTorch в частности. Но не забывайте, что за скатанный код без ссылки на источник придется ответить по всей строгости!\n",
        "\n",
        "- Если вы сразу реализуете обучение на GPU, то у вас будет больше времени на эксперименты, так как любые вычисления будут работать быстрее. Google Colab предоставляет несколько GPU-часов (обычно около 8-10) в сутки бесплатно.\n",
        "\n",
        "- Чтобы отладить код, можете обучаться на небольшой части данных или даже на одном батче. Если лосс на обучающей выборке не падает, то что-то точно идет не так!\n",
        "\n",
        "- Пользуйтесь утилитами, которые вам предоставляет PyTorch (например, Dataset и Dataloader). Их специально разработали для упрощения разработки пайплайна обучения.\n",
        "\n",
        "- Скорее всего вы захотите отслеживать прогресс обучения. Для создания прогресс-баров есть удобная библиотека `tqdm`.\n",
        "\n",
        "- Быть может, вы захотите, чтобы графики рисовались прямо во время обучения. Можете воспользоваться функцией [clear_output](http://ipython.org/ipython-doc/dev/api/generated/IPython.display.html#IPython.display.clear_output), чтобы удалять старый график и рисовать новый на его месте.\n",
        "\n",
        "**ОБЯЗАТЕЛЬНО** рисуйте графики зависимости лосса/метрики на обучающей и тестовой выборках в зависимости от времени обучения. Если обучение занимает относительно небольшое число эпох, то лучше рисовать зависимость от номера шага обучения, если же эпох больше, то рисуйте зависимость по эпохам. Если проверяющий не увидит такого графика для вашей лучшей модели, то он в праве снизить баллы за задание.\n",
        "\n",
        "**ВАЖНО!** Ваше решение должно быть воспроизводимым. Если это не так, то проверяющий имеет право снизить баллы за задание. Чтобы зафиксировать random seed, воспользуйтесь функцией из ячейки ниже.\n",
        "\n"
      ]
    },
    {
      "cell_type": "code",
      "execution_count": 169,
      "metadata": {
        "id": "VaMButDmEKKw"
      },
      "outputs": [],
      "source": [
        "def set_random_seed(seed):\n",
        "    torch.backends.cudnn.deterministic = True\n",
        "    torch.manual_seed(seed)\n",
        "    torch.cuda.manual_seed(seed)\n",
        "    np.random.seed(seed)\n",
        "    random.seed(seed)"
      ]
    },
    {
      "cell_type": "markdown",
      "metadata": {
        "id": "TZW0gMe3vT8u"
      },
      "source": [
        "Вы можете придерживаться любой адекватной струкуры кода, но мы советуем воспользоваться следующими сигнатурами функций. Лучше всего, если вы проверите ваши предсказания ассертом: так вы убережете себя от разных косяков, например, что вектор предсказаний состоит из всего одного числа. В любом случае, внимательно следите за тем, для каких тензоров вы считаете метрику RMSE. При случайном или намеренном введении в заблуждение проверяющие очень сильно разозлятся."
      ]
    },
    {
      "cell_type": "code",
      "execution_count": null,
      "metadata": {
        "id": "peomNjMWbkSz"
      },
      "outputs": [],
      "source": [
        "train_set = None  # YOUR CODE HERE (－.－)...zzzZZZzzzZZZ\n",
        "train_loader = None  # YOUR CODE HERE (－.－)...zzzZZZzzzZZZ\n",
        "\n",
        "test_set = None  # YOUR CODE HERE (－.－)...zzzZZZzzzZZZ\n",
        "test_loader = None  # YOUR CODE HERE (－.－)...zzzZZZzzzZZZ\n",
        "\n",
        "model = None  # YOUR CODE HERE (－.－)...zzzZZZzzzZZZ\n",
        "optimizer = None  # YOUR CODE HERE (－.－)...zzzZZZzzzZZZ\n",
        "criterion = None  # YOUR CODE HERE (－.－)...zzzZZZzzzZZZ"
      ]
    },
    {
      "cell_type": "code",
      "execution_count": null,
      "metadata": {
        "id": "8Wmxrf5Qveux"
      },
      "outputs": [],
      "source": [
        "def train(model, optimizer, criterion, train_loader, test_loader):\n",
        "    \"\"\"\n",
        "    params:\n",
        "        model - torch.nn.Module to be fitted\n",
        "        optimizer - model optimizer\n",
        "        criterion - loss function from torch.nn\n",
        "        train_loader - torch.utils.data.Dataloader with train set\n",
        "        test_loader - torch.utils.data.Dataloader with test set\n",
        "                      (if you wish to validate during training)\n",
        "    \"\"\"\n",
        "    # YOUR CODE HERE (－.－)...zzzZZZzzzZZZ\n",
        "    raise NotImplementedError\n",
        "\n",
        "\n",
        "def test(model, criterion, test_loader):\n",
        "    \"\"\"\n",
        "    params:\n",
        "        model - torch.nn.Module to be evaluated on test set\n",
        "        criterion - loss function from torch.nn\n",
        "        test_loader - torch.utils.data.Dataloader with test set\n",
        "    ----------\n",
        "    returns:\n",
        "        predicts - torch.tensor with shape (len(test_loader.dataset), ),\n",
        "                   which contains predictions for test objects\n",
        "    \"\"\"\n",
        "    # YOUR CODE HERE (－.－)...zzzZZZzzzZZZ\n",
        "    predicts = torch.ones(len(test_loader.dataset))\n",
        "    return predicts"
      ]
    },
    {
      "cell_type": "code",
      "execution_count": null,
      "metadata": {
        "id": "4PVEXDgD6Swj"
      },
      "outputs": [],
      "source": [
        "assert test(model, criterion, test_loader).shape[0] == y_test.shape[0]"
      ]
    },
    {
      "cell_type": "markdown",
      "metadata": {
        "id": "maik_pJjO59u"
      },
      "source": [
        "# Эксперимент 1"
      ]
    },
    {
      "cell_type": "code",
      "execution_count": 31,
      "metadata": {
        "id": "mAi2Nn88Q3Yo"
      },
      "outputs": [],
      "source": [
        "import torch\n",
        "import torch.nn as nn\n",
        "import torch.nn.functional as F\n",
        "import torch.optim as optim\n",
        "import torch.utils.data as data_utils\n",
        "from torch.utils.data import Dataset, DataLoader, TensorDataset\n",
        "from tqdm import tqdm"
      ]
    },
    {
      "cell_type": "code",
      "execution_count": 230,
      "metadata": {
        "id": "XhXqu95HRGLd"
      },
      "outputs": [],
      "source": [
        "set_random_seed(42)"
      ]
    },
    {
      "cell_type": "code",
      "execution_count": 231,
      "metadata": {
        "id": "uajyb4qvCTxx"
      },
      "outputs": [],
      "source": [
        "device = torch.device(\"cuda\" if torch.cuda.is_available() else \"cpu\")"
      ]
    },
    {
      "cell_type": "code",
      "execution_count": 232,
      "metadata": {
        "id": "xyOUO3U7B_eP"
      },
      "outputs": [],
      "source": [
        "BATCH_SIZE = 128\n",
        "EPOCHS = 50\n",
        "LEARNING_RATE = 0.001"
      ]
    },
    {
      "cell_type": "code",
      "execution_count": 233,
      "metadata": {
        "id": "Kr0ksEifO87G"
      },
      "outputs": [],
      "source": [
        "def create_data_loader(X_train, y_train, X_test, y_test):\n",
        "    train_tensor = TensorDataset(torch.tensor(X_train.astype(np.float32)), torch.tensor(y_train.astype(np.float32)).unsqueeze(1))\n",
        "    train_loader = DataLoader(dataset=train_tensor,\n",
        "                                         batch_size=BATCH_SIZE,\n",
        "                                         shuffle=True)\n",
        "\n",
        "    test_tensor = TensorDataset(torch.tensor(X_test.astype(np.float32)), torch.tensor(y_test.astype(np.float32)).unsqueeze(1))\n",
        "    test_loader = DataLoader(dataset=test_tensor,\n",
        "                                        batch_size=BATCH_SIZE,\n",
        "                                        shuffle=False)\n",
        "    return train_loader, test_loader"
      ]
    },
    {
      "cell_type": "code",
      "execution_count": 234,
      "metadata": {
        "id": "0FtDNWUyAq0N"
      },
      "outputs": [],
      "source": [
        "train_loader, test_loader = create_data_loader(X_train, y_train, X_test, y_test)"
      ]
    },
    {
      "cell_type": "code",
      "execution_count": 37,
      "metadata": {
        "id": "cljAMd6mRumd"
      },
      "outputs": [],
      "source": [
        "class ModelOne(nn.Module):\n",
        "    def __init__(self):\n",
        "        super().__init__()\n",
        "        self.layer1 = nn.Linear(90, 64)\n",
        "        self.act1 = nn.ReLU()\n",
        "        self.layer2 = nn.Linear(64, 32)\n",
        "        self.act2 = nn.ReLU()\n",
        "        self.output = nn.Linear(32, 1)\n",
        "\n",
        "    def forward(self, x):\n",
        "        x = self.act1(self.layer1(x))\n",
        "        x = self.act2(self.layer2(x))\n",
        "        x = self.output(x)\n",
        "        return x"
      ]
    },
    {
      "cell_type": "code",
      "execution_count": 38,
      "metadata": {
        "id": "UZ-epGZBTkJZ"
      },
      "outputs": [],
      "source": [
        "model = ModelOne().to(device)"
      ]
    },
    {
      "cell_type": "code",
      "execution_count": 39,
      "metadata": {
        "id": "TO5GH9AYS4gy"
      },
      "outputs": [],
      "source": [
        "optimizer = optim.Adam(model.parameters(), lr=LEARNING_RATE)\n",
        "criterion = nn.MSELoss()"
      ]
    },
    {
      "cell_type": "code",
      "execution_count": 40,
      "metadata": {
        "id": "eksd_rucGfaQ"
      },
      "outputs": [],
      "source": [
        "def train(model, optimizer, criterion, train_loader, test_loader):\n",
        "    train_losses = []\n",
        "    train_rmses = []\n",
        "    valid_losses = []\n",
        "    valid_rmses = []\n",
        "\n",
        "    for epoch in tqdm(range(EPOCHS)):  # добавил tqdm для прогресс-бара\n",
        "        model.train()\n",
        "        train_loss = 0.0\n",
        "        train_samples = 0\n",
        "        for features, label in train_loader:\n",
        "            features = features.to(device) # перемещаем данные на девайс\n",
        "            label = label.to(device)\n",
        "\n",
        "            optimizer.zero_grad()\n",
        "            output = model(features) # получаем предсказания модели\n",
        "            loss = criterion(output, label) # считаем лосс\n",
        "            loss.backward() # считаем градиенты\n",
        "            optimizer.step() # обновляем веса\n",
        "\n",
        "            batch_size = features.size(0)\n",
        "            train_loss += loss.item() * batch_size\n",
        "            train_samples += batch_size\n",
        "\n",
        "        avg_train_loss = train_loss / train_samples\n",
        "        avg_train_rmse = np.sqrt(avg_train_loss)\n",
        "\n",
        "        train_losses.append(avg_train_loss)\n",
        "        train_rmses.append(avg_train_rmse)\n",
        "\n",
        "        if epoch % 10 == 0:\n",
        "            print(f'EPOCH {epoch}, train_loss: {avg_train_loss}, train_rmse: {avg_train_rmse}')\n",
        "\n",
        "        model.eval()\n",
        "        valid_loss = 0\n",
        "        valid_samples = 0\n",
        "        with torch.no_grad():\n",
        "            for features, label in test_loader:\n",
        "                features = features.to(device)\n",
        "                label = label.to(device)\n",
        "\n",
        "                output = model(features)\n",
        "                loss = criterion(output, label)\n",
        "\n",
        "                batch_size = features.size(0)\n",
        "                valid_loss += loss.item() * batch_size\n",
        "                valid_samples += batch_size\n",
        "\n",
        "        avg_valid_loss = valid_loss / valid_samples\n",
        "        avg_valid_rmse = np.sqrt(avg_valid_loss)\n",
        "\n",
        "        valid_losses.append(avg_valid_loss)\n",
        "        valid_rmses.append(avg_valid_rmse)\n",
        "\n",
        "        if epoch % 10 == 0:\n",
        "            print(f'EPOCH {epoch}, valid_loss: {avg_valid_loss}, valid_rmse: {avg_valid_rmse}')\n",
        "\n",
        "    return train_losses, train_rmses, valid_losses, valid_rmses"
      ]
    },
    {
      "cell_type": "code",
      "execution_count": 41,
      "metadata": {
        "colab": {
          "base_uri": "https://localhost:8080/"
        },
        "id": "k1dN5qAaODmY",
        "outputId": "857ae69e-c5a2-4e45-ba2d-67e46b51971d"
      },
      "outputs": [
        {
          "name": "stderr",
          "output_type": "stream",
          "text": [
            "\r  0%|          | 0/50 [00:00<?, ?it/s]"
          ]
        },
        {
          "name": "stdout",
          "output_type": "stream",
          "text": [
            "EPOCH 0, train_loss: 453564.3749615621, train_rmse: 673.4718813443974\n"
          ]
        },
        {
          "name": "stderr",
          "output_type": "stream",
          "text": [
            "\r  2%|▏         | 1/50 [00:18<15:07, 18.51s/it]"
          ]
        },
        {
          "name": "stdout",
          "output_type": "stream",
          "text": [
            "EPOCH 0, valid_loss: 34770.892099736106, valid_rmse: 186.4695473790187\n"
          ]
        },
        {
          "name": "stderr",
          "output_type": "stream",
          "text": [
            " 20%|██        | 10/50 [01:54<06:59, 10.48s/it]"
          ]
        },
        {
          "name": "stdout",
          "output_type": "stream",
          "text": [
            "EPOCH 10, train_loss: 105.47677872603903, train_rmse: 10.270188835948394\n"
          ]
        },
        {
          "name": "stderr",
          "output_type": "stream",
          "text": [
            "\r 22%|██▏       | 11/50 [02:04<06:47, 10.46s/it]"
          ]
        },
        {
          "name": "stdout",
          "output_type": "stream",
          "text": [
            "EPOCH 10, valid_loss: 95.595055942214, valid_rmse: 9.777272418328845\n"
          ]
        },
        {
          "name": "stderr",
          "output_type": "stream",
          "text": [
            " 40%|████      | 20/50 [03:37<05:09, 10.32s/it]"
          ]
        },
        {
          "name": "stdout",
          "output_type": "stream",
          "text": [
            "EPOCH 20, train_loss: 102.60716268205171, train_rmse: 10.129519370732835\n"
          ]
        },
        {
          "name": "stderr",
          "output_type": "stream",
          "text": [
            "\r 42%|████▏     | 21/50 [03:47<04:58, 10.30s/it]"
          ]
        },
        {
          "name": "stdout",
          "output_type": "stream",
          "text": [
            "EPOCH 20, valid_loss: 125.95621610024907, valid_rmse: 11.223021700961336\n"
          ]
        },
        {
          "name": "stderr",
          "output_type": "stream",
          "text": [
            " 60%|██████    | 30/50 [05:17<03:21, 10.09s/it]"
          ]
        },
        {
          "name": "stdout",
          "output_type": "stream",
          "text": [
            "EPOCH 30, train_loss: 99.29070638472736, train_rmse: 9.964472208036277\n"
          ]
        },
        {
          "name": "stderr",
          "output_type": "stream",
          "text": [
            "\r 62%|██████▏   | 31/50 [05:28<03:12, 10.11s/it]"
          ]
        },
        {
          "name": "stdout",
          "output_type": "stream",
          "text": [
            "EPOCH 30, valid_loss: 101.0225851352654, valid_rmse: 10.05099921078822\n"
          ]
        },
        {
          "name": "stderr",
          "output_type": "stream",
          "text": [
            " 80%|████████  | 40/50 [06:58<01:40, 10.09s/it]"
          ]
        },
        {
          "name": "stdout",
          "output_type": "stream",
          "text": [
            "EPOCH 40, train_loss: 95.95141346760154, train_rmse: 9.79547923623962\n"
          ]
        },
        {
          "name": "stderr",
          "output_type": "stream",
          "text": [
            "\r 82%|████████▏ | 41/50 [07:08<01:31, 10.13s/it]"
          ]
        },
        {
          "name": "stdout",
          "output_type": "stream",
          "text": [
            "EPOCH 40, valid_loss: 95.41831207098066, valid_rmse: 9.768229730661572\n"
          ]
        },
        {
          "name": "stderr",
          "output_type": "stream",
          "text": [
            "100%|██████████| 50/50 [08:54<00:00, 10.69s/it]\n"
          ]
        }
      ],
      "source": [
        "train_losses, train_rmses, valid_losses, valid_rmses = train(model, optimizer, criterion, train_loader, test_loader)"
      ]
    },
    {
      "cell_type": "code",
      "execution_count": 45,
      "metadata": {
        "colab": {
          "base_uri": "https://localhost:8080/"
        },
        "id": "QqQTwtO7GRXg",
        "outputId": "4b60c4e5-d624-4d55-ac64-f4f52d5cc6e0"
      },
      "outputs": [
        {
          "name": "stdout",
          "output_type": "stream",
          "text": [
            "RMSE 9.6050\n"
          ]
        }
      ],
      "source": [
        "rmse = valid_rmses[-1]\n",
        "print(f'RMSE {rmse:.4f}')"
      ]
    },
    {
      "cell_type": "code",
      "execution_count": 42,
      "metadata": {
        "colab": {
          "base_uri": "https://localhost:8080/",
          "height": 465
        },
        "id": "Ua3uSeyMYOSi",
        "outputId": "9358335c-cbaa-493c-d8f8-ab901020600b"
      },
      "outputs": [
        {
          "data": {
            "image/png": "[encoded data removed]",
            "text/plain": [
              "<Figure size 1000x500 with 1 Axes>"
            ]
          },
          "metadata": {},
          "output_type": "display_data"
        }
      ],
      "source": [
        "plt.figure(figsize=(10, 5))\n",
        "plt.plot(valid_rmses, label='RMSE')\n",
        "plt.xlabel('Epoch')\n",
        "plt.ylabel('RMSE')\n",
        "plt.legend()\n",
        "plt.grid()\n",
        "plt.show()"
      ]
    },
    {
      "cell_type": "markdown",
      "metadata": {
        "id": "qTGD1s8lNE6a"
      },
      "source": [
        "# Эксперимент 2"
      ]
    },
    {
      "cell_type": "code",
      "execution_count": 99,
      "metadata": {
        "id": "1J2ylv2XNHCj"
      },
      "outputs": [],
      "source": [
        "BATCH_SIZE = 128\n",
        "EPOCHS = 50\n",
        "LEARNING_RATE = 0.001"
      ]
    },
    {
      "cell_type": "code",
      "execution_count": 100,
      "metadata": {
        "id": "wyp1sd1aSdR3"
      },
      "outputs": [],
      "source": [
        "class ModelTwo(nn.Module):\n",
        "    def __init__(self):\n",
        "        super().__init__()\n",
        "        self.layer1 = nn.Linear(90, 64)\n",
        "        self.bn1 = nn.BatchNorm1d(64) # Batch Norm\n",
        "        self.act1 = nn.ReLU()\n",
        "        self.layer2 = nn.Linear(64, 32)\n",
        "        self.bn2 = nn.BatchNorm1d(32) # Batch Norm\n",
        "        self.act2 = nn.ReLU()\n",
        "        self.output = nn.Linear(32, 1)\n",
        "\n",
        "    def forward(self, x):\n",
        "        x = self.act1(self.bn1(self.layer1(x)))\n",
        "        x = self.act2(self.bn2(self.layer2(x)))\n",
        "        x = self.output(x)\n",
        "        return x"
      ]
    },
    {
      "cell_type": "code",
      "execution_count": 101,
      "metadata": {
        "id": "0PcJ6AHvNmkp"
      },
      "outputs": [],
      "source": [
        "model = ModelTwo().to(device)\n",
        "optimizer = optim.Adam(model.parameters(), lr=LEARNING_RATE)\n",
        "criterion = nn.MSELoss()"
      ]
    },
    {
      "cell_type": "code",
      "execution_count": 102,
      "metadata": {
        "colab": {
          "base_uri": "https://localhost:8080/"
        },
        "id": "g1eqTQT8N_Zd",
        "outputId": "1ddef475-f6b7-4343-a0b1-6a21e4fd5cbd"
      },
      "outputs": [
        {
          "name": "stderr",
          "output_type": "stream",
          "text": [
            "\r  0%|          | 0/50 [00:00<?, ?it/s]"
          ]
        },
        {
          "name": "stdout",
          "output_type": "stream",
          "text": [
            "EPOCH 0, train_loss: 2828871.1120615574, train_rmse: 1681.9248235463906\n"
          ]
        },
        {
          "name": "stderr",
          "output_type": "stream",
          "text": [
            "\r  2%|▏         | 1/50 [00:11<09:21, 11.46s/it]"
          ]
        },
        {
          "name": "stdout",
          "output_type": "stream",
          "text": [
            "EPOCH 0, valid_loss: 1206545.5790431919, valid_rmse: 1098.4286863712146\n"
          ]
        },
        {
          "name": "stderr",
          "output_type": "stream",
          "text": [
            " 20%|██        | 10/50 [02:26<09:43, 14.59s/it]"
          ]
        },
        {
          "name": "stdout",
          "output_type": "stream",
          "text": [
            "EPOCH 10, train_loss: 181.731194398304, train_rmse: 13.480771283509858\n"
          ]
        },
        {
          "name": "stderr",
          "output_type": "stream",
          "text": [
            "\r 22%|██▏       | 11/50 [02:39<09:09, 14.08s/it]"
          ]
        },
        {
          "name": "stdout",
          "output_type": "stream",
          "text": [
            "EPOCH 10, valid_loss: 152.63585483182337, valid_rmse: 12.354588412076842\n"
          ]
        },
        {
          "name": "stderr",
          "output_type": "stream",
          "text": [
            " 40%|████      | 20/50 [04:42<06:21, 12.70s/it]"
          ]
        },
        {
          "name": "stdout",
          "output_type": "stream",
          "text": [
            "EPOCH 20, train_loss: 124.57263807709697, train_rmse: 11.161211317643662\n"
          ]
        },
        {
          "name": "stderr",
          "output_type": "stream",
          "text": [
            "\r 42%|████▏     | 21/50 [04:54<05:58, 12.35s/it]"
          ]
        },
        {
          "name": "stdout",
          "output_type": "stream",
          "text": [
            "EPOCH 20, valid_loss: 146.8267157397805, valid_rmse: 12.117207423320792\n"
          ]
        },
        {
          "name": "stderr",
          "output_type": "stream",
          "text": [
            " 60%|██████    | 30/50 [06:41<03:53, 11.69s/it]"
          ]
        },
        {
          "name": "stdout",
          "output_type": "stream",
          "text": [
            "EPOCH 30, train_loss: 103.77270453605571, train_rmse: 10.186888854604025\n"
          ]
        },
        {
          "name": "stderr",
          "output_type": "stream",
          "text": [
            "\r 62%|██████▏   | 31/50 [06:53<03:41, 11.64s/it]"
          ]
        },
        {
          "name": "stdout",
          "output_type": "stream",
          "text": [
            "EPOCH 30, valid_loss: 103.46881584538384, valid_rmse: 10.17196224164167\n"
          ]
        },
        {
          "name": "stderr",
          "output_type": "stream",
          "text": [
            " 80%|████████  | 40/50 [08:38<01:55, 11.55s/it]"
          ]
        },
        {
          "name": "stdout",
          "output_type": "stream",
          "text": [
            "EPOCH 40, train_loss: 93.56823917089187, train_rmse: 9.673067722852553\n"
          ]
        },
        {
          "name": "stderr",
          "output_type": "stream",
          "text": [
            "\r 82%|████████▏ | 41/50 [08:49<01:43, 11.55s/it]"
          ]
        },
        {
          "name": "stdout",
          "output_type": "stream",
          "text": [
            "EPOCH 40, valid_loss: 112.26975998273544, valid_rmse: 10.595742540413836\n"
          ]
        },
        {
          "name": "stderr",
          "output_type": "stream",
          "text": [
            "100%|██████████| 50/50 [10:33<00:00, 12.68s/it]\n"
          ]
        }
      ],
      "source": [
        "train_losses, train_rmses, valid_losses, valid_rmses = train(model, optimizer, criterion, train_loader, test_loader)"
      ]
    },
    {
      "cell_type": "code",
      "execution_count": 103,
      "metadata": {
        "colab": {
          "base_uri": "https://localhost:8080/"
        },
        "id": "HnpKVX1eOTl8",
        "outputId": "fd7e6156-11a1-4557-b0d4-35c2b8da0682"
      },
      "outputs": [
        {
          "name": "stdout",
          "output_type": "stream",
          "text": [
            "RMSE 9.3876\n"
          ]
        }
      ],
      "source": [
        "rmse = valid_rmses[-1]\n",
        "print(f'RMSE {rmse:.4f}')"
      ]
    },
    {
      "cell_type": "code",
      "execution_count": 104,
      "metadata": {
        "colab": {
          "base_uri": "https://localhost:8080/",
          "height": 465
        },
        "id": "pvSzy1FjOfcr",
        "outputId": "7116e5c5-45f2-4b5a-c292-aaad19fa26f9"
      },
      "outputs": [
        {
          "data": {
            "image/png": "[encoded data removed]",
            "text/plain": [
              "<Figure size 1000x500 with 1 Axes>"
            ]
          },
          "metadata": {},
          "output_type": "display_data"
        }
      ],
      "source": [
        "plt.figure(figsize=(10, 5))\n",
        "plt.plot(valid_rmses, label='RMSE')\n",
        "plt.xlabel('Epoch')\n",
        "plt.ylabel('RMSE')\n",
        "plt.legend()\n",
        "plt.grid()\n",
        "plt.show()"
      ]
    },
    {
      "cell_type": "markdown",
      "metadata": {
        "id": "etC_2pLEVh3k"
      },
      "source": [
        "# Эксперимент 3"
      ]
    },
    {
      "cell_type": "code",
      "execution_count": 119,
      "metadata": {
        "id": "Nd0Yx0DbVkW7"
      },
      "outputs": [],
      "source": [
        "BATCH_SIZE = 128\n",
        "EPOCHS = 50\n",
        "LEARNING_RATE = 0.001"
      ]
    },
    {
      "cell_type": "code",
      "execution_count": 120,
      "metadata": {
        "id": "22Lkpo8QdK-P"
      },
      "outputs": [],
      "source": [
        "class ModelThree(nn.Module):\n",
        "    def __init__(self):\n",
        "        super().__init__()\n",
        "        self.layer1 = nn.Linear(90, 128)\n",
        "        self.bn1 = nn.BatchNorm1d(128)\n",
        "        self.act1 = nn.ReLU()\n",
        "        self.dropout1 = nn.Dropout(0.1)\n",
        "        self.layer2 = nn.Linear(128, 64)\n",
        "        self.bn2 = nn.BatchNorm1d(64)\n",
        "        self.act2 = nn.ReLU()\n",
        "        # self.dropout2 = nn.Dropout(0.1)\n",
        "        self.output = nn.Linear(64, 1)\n",
        "\n",
        "    def forward(self, x):\n",
        "        x = self.dropout1(self.act1(self.bn1(self.layer1(x))))\n",
        "        x = self.act2(self.bn2(self.layer2(x)))\n",
        "        x = self.output(x)\n",
        "        return x"
      ]
    },
    {
      "cell_type": "code",
      "execution_count": 121,
      "metadata": {
        "id": "hstsEUuhWm_h"
      },
      "outputs": [],
      "source": [
        "model = ModelThree().to(device)\n",
        "optimizer = optim.Adam(model.parameters(), lr=LEARNING_RATE)\n",
        "criterion = nn.MSELoss()"
      ]
    },
    {
      "cell_type": "code",
      "execution_count": 122,
      "metadata": {
        "colab": {
          "base_uri": "https://localhost:8080/"
        },
        "id": "OvmBXKzgWrJB",
        "outputId": "5f44ed30-cb9e-4883-ec84-b1eb07f08de2"
      },
      "outputs": [
        {
          "name": "stderr",
          "output_type": "stream",
          "text": [
            "\r  0%|          | 0/50 [00:00<?, ?it/s]"
          ]
        },
        {
          "name": "stdout",
          "output_type": "stream",
          "text": [
            "EPOCH 0, train_loss: 2159311.1022297507, train_rmse: 1469.4594591991133\n"
          ]
        },
        {
          "name": "stderr",
          "output_type": "stream",
          "text": [
            "\r  2%|▏         | 1/50 [00:11<09:40, 11.85s/it]"
          ]
        },
        {
          "name": "stdout",
          "output_type": "stream",
          "text": [
            "EPOCH 0, valid_loss: 264636.5194654271, valid_rmse: 514.4283424009869\n"
          ]
        },
        {
          "name": "stderr",
          "output_type": "stream",
          "text": [
            " 20%|██        | 10/50 [01:57<07:48, 11.72s/it]"
          ]
        },
        {
          "name": "stdout",
          "output_type": "stream",
          "text": [
            "EPOCH 10, train_loss: 216.15001128044435, train_rmse: 14.702041058317187\n"
          ]
        },
        {
          "name": "stderr",
          "output_type": "stream",
          "text": [
            "\r 22%|██▏       | 11/50 [02:09<07:38, 11.76s/it]"
          ]
        },
        {
          "name": "stdout",
          "output_type": "stream",
          "text": [
            "EPOCH 10, valid_loss: 121.05356388213951, valid_rmse: 11.002434452526382\n"
          ]
        },
        {
          "name": "stderr",
          "output_type": "stream",
          "text": [
            " 40%|████      | 20/50 [03:56<05:53, 11.79s/it]"
          ]
        },
        {
          "name": "stdout",
          "output_type": "stream",
          "text": [
            "EPOCH 20, train_loss: 98.19658998035469, train_rmse: 9.909419255453605\n"
          ]
        },
        {
          "name": "stderr",
          "output_type": "stream",
          "text": [
            "\r 42%|████▏     | 21/50 [04:07<05:42, 11.82s/it]"
          ]
        },
        {
          "name": "stdout",
          "output_type": "stream",
          "text": [
            "EPOCH 20, valid_loss: 85.53697057971884, valid_rmse: 9.248619928384928\n"
          ]
        },
        {
          "name": "stderr",
          "output_type": "stream",
          "text": [
            " 60%|██████    | 30/50 [05:54<03:56, 11.84s/it]"
          ]
        },
        {
          "name": "stdout",
          "output_type": "stream",
          "text": [
            "EPOCH 30, train_loss: 83.56327900225597, train_rmse: 9.141295258455225\n"
          ]
        },
        {
          "name": "stderr",
          "output_type": "stream",
          "text": [
            "\r 62%|██████▏   | 31/50 [06:06<03:45, 11.84s/it]"
          ]
        },
        {
          "name": "stdout",
          "output_type": "stream",
          "text": [
            "EPOCH 30, valid_loss: 93.83964769295798, valid_rmse: 9.687086646301765\n"
          ]
        },
        {
          "name": "stderr",
          "output_type": "stream",
          "text": [
            " 80%|████████  | 40/50 [07:52<01:58, 11.85s/it]"
          ]
        },
        {
          "name": "stdout",
          "output_type": "stream",
          "text": [
            "EPOCH 40, train_loss: 80.9728705832223, train_rmse: 8.998492683956703\n"
          ]
        },
        {
          "name": "stderr",
          "output_type": "stream",
          "text": [
            "\r 82%|████████▏ | 41/50 [08:04<01:46, 11.81s/it]"
          ]
        },
        {
          "name": "stdout",
          "output_type": "stream",
          "text": [
            "EPOCH 40, valid_loss: 79.08989534512892, valid_rmse: 8.893249987778873\n"
          ]
        },
        {
          "name": "stderr",
          "output_type": "stream",
          "text": [
            "100%|██████████| 50/50 [09:50<00:00, 11.81s/it]\n"
          ]
        }
      ],
      "source": [
        "train_losses, train_rmses, valid_losses, valid_rmses = train(model, optimizer, criterion, train_loader, test_loader)"
      ]
    },
    {
      "cell_type": "code",
      "execution_count": 123,
      "metadata": {
        "colab": {
          "base_uri": "https://localhost:8080/"
        },
        "id": "IClFsj3aW0XT",
        "outputId": "b43adebd-8997-4c56-9e5d-3d67f606da8a"
      },
      "outputs": [
        {
          "name": "stdout",
          "output_type": "stream",
          "text": [
            "RMSE 8.9349\n"
          ]
        }
      ],
      "source": [
        "rmse = valid_rmses[-1]\n",
        "print(f'RMSE {rmse:.4f}')"
      ]
    },
    {
      "cell_type": "code",
      "execution_count": 124,
      "metadata": {
        "colab": {
          "base_uri": "https://localhost:8080/",
          "height": 465
        },
        "id": "JuIF48Z5W2Bx",
        "outputId": "922566ce-dff6-4106-c13f-6f92c2764c13"
      },
      "outputs": [
        {
          "data": {
            "image/png": "[encoded data removed]",
            "text/plain": [
              "<Figure size 1000x500 with 1 Axes>"
            ]
          },
          "metadata": {},
          "output_type": "display_data"
        }
      ],
      "source": [
        "plt.figure(figsize=(10, 5))\n",
        "plt.plot(valid_rmses, label='RMSE')\n",
        "plt.xlabel('Epoch')\n",
        "plt.ylabel('RMSE')\n",
        "plt.legend()\n",
        "plt.grid()\n",
        "plt.show()"
      ]
    },
    {
      "cell_type": "markdown",
      "metadata": {
        "id": "-ee31Lqjh-dd"
      },
      "source": [
        "# Эксперимент 4"
      ]
    },
    {
      "cell_type": "code",
      "execution_count": 146,
      "metadata": {
        "id": "6Ef8W35MiBE3"
      },
      "outputs": [],
      "source": [
        "BATCH_SIZE = 128\n",
        "EPOCHS = 50\n",
        "LEARNING_RATE = 0.001"
      ]
    },
    {
      "cell_type": "code",
      "execution_count": 149,
      "metadata": {
        "id": "IryTYzSwiJhy"
      },
      "outputs": [],
      "source": [
        "class ModelFour(nn.Module):\n",
        "    def __init__(self):\n",
        "        super().__init__()\n",
        "        self.layer1 = nn.Linear(90, 128)\n",
        "        self.bn1 = nn.BatchNorm1d(128)\n",
        "        self.act1 = nn.LeakyReLU() # заменил ReLU на LeakyReLU\n",
        "        self.dropout1 = nn.Dropout(0.1)\n",
        "        self.layer2 = nn.Linear(128, 64)\n",
        "        self.bn2 = nn.BatchNorm1d(64)\n",
        "        self.act2 = nn.LeakyReLU()\n",
        "        self.output = nn.Linear(64, 1)\n",
        "\n",
        "    def forward(self, x):\n",
        "        x = self.dropout1(self.act1(self.bn1(self.layer1(x))))\n",
        "        x = self.act2(self.bn2(self.layer2(x)))\n",
        "        x = self.output(x)\n",
        "        return x"
      ]
    },
    {
      "cell_type": "code",
      "execution_count": 150,
      "metadata": {
        "id": "QC6_KSBBiPi6"
      },
      "outputs": [],
      "source": [
        "model = ModelFour().to(device)\n",
        "optimizer = optim.Adam(model.parameters(), lr=LEARNING_RATE)\n",
        "criterion = nn.MSELoss()"
      ]
    },
    {
      "cell_type": "code",
      "execution_count": 151,
      "metadata": {
        "colab": {
          "base_uri": "https://localhost:8080/"
        },
        "id": "fiESXpCbjzHV",
        "outputId": "e3214469-5938-449d-9431-73cfe7fad9b5"
      },
      "outputs": [
        {
          "name": "stderr",
          "output_type": "stream",
          "text": [
            "\r  0%|          | 0/50 [00:00<?, ?it/s]"
          ]
        },
        {
          "name": "stdout",
          "output_type": "stream",
          "text": [
            "EPOCH 0, train_loss: 2162401.2838043035, train_rmse: 1470.5105520887307\n"
          ]
        },
        {
          "name": "stderr",
          "output_type": "stream",
          "text": [
            "\r  2%|▏         | 1/50 [00:12<10:13, 12.51s/it]"
          ]
        },
        {
          "name": "stdout",
          "output_type": "stream",
          "text": [
            "EPOCH 0, valid_loss: 260944.57445162695, valid_rmse: 510.82734309316976\n"
          ]
        },
        {
          "name": "stderr",
          "output_type": "stream",
          "text": [
            " 20%|██        | 10/50 [02:00<08:03, 12.09s/it]"
          ]
        },
        {
          "name": "stdout",
          "output_type": "stream",
          "text": [
            "EPOCH 10, train_loss: 218.18130433282573, train_rmse: 14.770961523639066\n"
          ]
        },
        {
          "name": "stderr",
          "output_type": "stream",
          "text": [
            "\r 22%|██▏       | 11/50 [02:12<07:47, 11.99s/it]"
          ]
        },
        {
          "name": "stdout",
          "output_type": "stream",
          "text": [
            "EPOCH 10, valid_loss: 165.28853740023476, valid_rmse: 12.856458975948033\n"
          ]
        },
        {
          "name": "stderr",
          "output_type": "stream",
          "text": [
            " 40%|████      | 20/50 [03:56<05:50, 11.68s/it]"
          ]
        },
        {
          "name": "stdout",
          "output_type": "stream",
          "text": [
            "EPOCH 20, train_loss: 93.40583980739596, train_rmse: 9.664669668819311\n"
          ]
        },
        {
          "name": "stderr",
          "output_type": "stream",
          "text": [
            "\r 42%|████▏     | 21/50 [04:07<05:37, 11.64s/it]"
          ]
        },
        {
          "name": "stdout",
          "output_type": "stream",
          "text": [
            "EPOCH 20, valid_loss: 84.54234950028486, valid_rmse: 9.194691376021538\n"
          ]
        },
        {
          "name": "stderr",
          "output_type": "stream",
          "text": [
            " 60%|██████    | 30/50 [05:52<03:52, 11.63s/it]"
          ]
        },
        {
          "name": "stdout",
          "output_type": "stream",
          "text": [
            "EPOCH 30, train_loss: 82.94830025718497, train_rmse: 9.107595745156072\n"
          ]
        },
        {
          "name": "stderr",
          "output_type": "stream",
          "text": [
            "\r 62%|██████▏   | 31/50 [06:04<03:42, 11.70s/it]"
          ]
        },
        {
          "name": "stdout",
          "output_type": "stream",
          "text": [
            "EPOCH 30, valid_loss: 87.37805057668233, valid_rmse: 9.347622723274743\n"
          ]
        },
        {
          "name": "stderr",
          "output_type": "stream",
          "text": [
            " 80%|████████  | 40/50 [07:48<01:56, 11.62s/it]"
          ]
        },
        {
          "name": "stdout",
          "output_type": "stream",
          "text": [
            "EPOCH 40, train_loss: 80.74660803231343, train_rmse: 8.98591164169298\n"
          ]
        },
        {
          "name": "stderr",
          "output_type": "stream",
          "text": [
            "\r 82%|████████▏ | 41/50 [08:00<01:44, 11.64s/it]"
          ]
        },
        {
          "name": "stdout",
          "output_type": "stream",
          "text": [
            "EPOCH 40, valid_loss: 79.49985207242372, valid_rmse: 8.916268954693086\n"
          ]
        },
        {
          "name": "stderr",
          "output_type": "stream",
          "text": [
            "100%|██████████| 50/50 [09:45<00:00, 11.70s/it]\n"
          ]
        }
      ],
      "source": [
        "train_losses, train_rmses, valid_losses, valid_rmses = train(model, optimizer, criterion, train_loader, test_loader)"
      ]
    },
    {
      "cell_type": "code",
      "execution_count": 152,
      "metadata": {
        "colab": {
          "base_uri": "https://localhost:8080/"
        },
        "id": "H0LwWXqmj3Yx",
        "outputId": "ab0d439c-02eb-46af-c914-f61135cbd8a8"
      },
      "outputs": [
        {
          "name": "stdout",
          "output_type": "stream",
          "text": [
            "RMSE 8.9099\n"
          ]
        }
      ],
      "source": [
        "rmse = valid_rmses[-1]\n",
        "print(f'RMSE {rmse:.4f}')"
      ]
    },
    {
      "cell_type": "code",
      "execution_count": 153,
      "metadata": {
        "colab": {
          "base_uri": "https://localhost:8080/",
          "height": 465
        },
        "id": "4EE5gke5j67l",
        "outputId": "774ad2d1-399f-4141-fc16-3d63b0ac8532"
      },
      "outputs": [
        {
          "data": {
            "image/png": "[encoded data removed]",
            "text/plain": [
              "<Figure size 1000x500 with 1 Axes>"
            ]
          },
          "metadata": {},
          "output_type": "display_data"
        }
      ],
      "source": [
        "plt.figure(figsize=(10, 5))\n",
        "plt.plot(valid_rmses, label='RMSE')\n",
        "plt.xlabel('Epoch')\n",
        "plt.ylabel('RMSE')\n",
        "plt.legend()\n",
        "plt.grid()\n",
        "plt.show()"
      ]
    },
    {
      "cell_type": "markdown",
      "metadata": {
        "id": "2BKyZUw7mdnP"
      },
      "source": [
        "# Эксперимент 5"
      ]
    },
    {
      "cell_type": "code",
      "execution_count": 235,
      "metadata": {
        "id": "mKbE1QOU_0ZT"
      },
      "outputs": [],
      "source": [
        "BATCH_SIZE = 128\n",
        "EPOCHS = 70 # увеличим количество эпох, т.к. будем использовать early stopping\n",
        "LEARNING_RATE = 0.01 # увеличил"
      ]
    },
    {
      "cell_type": "code",
      "execution_count": 236,
      "metadata": {
        "id": "fzK71fTy_5h6"
      },
      "outputs": [],
      "source": [
        "class ModelFive(nn.Module):\n",
        "    def __init__(self):\n",
        "        super().__init__()\n",
        "        self.layer1 = nn.Linear(90, 256)\n",
        "        self.bn1 = nn.BatchNorm1d(256)\n",
        "        self.act1 = nn.LeakyReLU()\n",
        "        self.dropout = nn.Dropout(0.1)\n",
        "\n",
        "        self.layer2 = nn.Linear(256, 128)\n",
        "        self.bn2 = nn.BatchNorm1d(128)\n",
        "        self.act2 = nn.LeakyReLU()\n",
        "\n",
        "        self.layer3 = nn.Linear(128, 64)\n",
        "        self.bn3 = nn.BatchNorm1d(64)\n",
        "        self.act3 = nn.LeakyReLU()\n",
        "\n",
        "        self.output = nn.Linear(64, 1)\n",
        "\n",
        "    def forward(self, x):\n",
        "        x = self.dropout(self.act1(self.bn1(self.layer1(x))))\n",
        "        x = self.act2(self.bn2(self.layer2(x)))\n",
        "        x = self.act3(self.bn3(self.layer3(x)))\n",
        "        x = self.output(x)\n",
        "        return x"
      ]
    },
    {
      "cell_type": "code",
      "execution_count": 237,
      "metadata": {
        "id": "G7P-y5mw_966"
      },
      "outputs": [],
      "source": [
        "model = ModelFive().to(device)\n",
        "optimizer = optim.Adam(model.parameters(), lr=LEARNING_RATE)\n",
        "criterion = nn.MSELoss()"
      ]
    },
    {
      "cell_type": "code",
      "execution_count": 238,
      "metadata": {
        "id": "_0NBeRWxAWPq"
      },
      "outputs": [],
      "source": [
        "scheduler = torch.optim.lr_scheduler.StepLR(optimizer, step_size=20, gamma=0.8)"
      ]
    },
    {
      "cell_type": "code",
      "execution_count": 239,
      "metadata": {
        "id": "JXvLFVO43ASg"
      },
      "outputs": [],
      "source": [
        "# добавил scheduler и early stopping\n",
        "def train(model, optimizer, criterion, train_loader, test_loader, scheduler=None, patience=10):\n",
        "    train_losses = []\n",
        "    train_rmses = []\n",
        "    valid_losses = []\n",
        "    valid_rmses = []\n",
        "    lr_history = []\n",
        "\n",
        "    best_valid_rmse = np.inf\n",
        "    epochs_no_improve = 0\n",
        "\n",
        "    for epoch in tqdm(range(EPOCHS)):\n",
        "        model.train()\n",
        "        train_loss = 0.0\n",
        "        num_train_samples = 0\n",
        "        for features, label in train_loader:\n",
        "            features = features.to(device)\n",
        "            label = label.to(device)\n",
        "\n",
        "            optimizer.zero_grad()\n",
        "            output = model(features)\n",
        "            loss = criterion(output, label)\n",
        "            loss.backward()\n",
        "            optimizer.step()\n",
        "\n",
        "            batch_size = features.size(0)\n",
        "            train_loss += loss.item() * batch_size\n",
        "            num_train_samples += batch_size\n",
        "\n",
        "        avg_train_loss = train_loss / num_train_samples\n",
        "        avg_train_rmse = np.sqrt(avg_train_loss)\n",
        "\n",
        "        train_losses.append(avg_train_loss)\n",
        "        train_rmses.append(avg_train_rmse)\n",
        "\n",
        "        model.eval()\n",
        "        valid_loss = 0\n",
        "        num_valid_samples = 0\n",
        "        with torch.no_grad():\n",
        "            for features, label in test_loader:\n",
        "                features = features.to(device)\n",
        "                label = label.to(device)\n",
        "\n",
        "                output = model(features)\n",
        "                loss = criterion(output, label)\n",
        "\n",
        "                batch_size = features.size(0)\n",
        "                valid_loss += loss.item() * batch_size\n",
        "                num_valid_samples += batch_size\n",
        "\n",
        "        avg_valid_loss = valid_loss / num_valid_samples\n",
        "        avg_valid_rmse = np.sqrt(avg_valid_loss)\n",
        "\n",
        "        valid_losses.append(avg_valid_loss)\n",
        "        valid_rmses.append(avg_valid_rmse)\n",
        "\n",
        "        # вызываем scheduler после каждой эпохи\n",
        "        if scheduler:\n",
        "            scheduler.step()\n",
        "            lr_history.append(scheduler.get_last_lr()[0])\n",
        "\n",
        "        if epoch % 10 == 0:\n",
        "            print(f'EPOCH {epoch}, train_loss: {avg_train_loss:.4f}, train_rmse: {avg_train_rmse:.4f}, valid_loss: {avg_valid_loss:.4f}, valid_rmse: {avg_valid_rmse:.4f}, lr: {scheduler.get_last_lr()[0]}')\n",
        "\n",
        "        # Early stopping\n",
        "        if avg_valid_rmse < best_valid_rmse:\n",
        "            best_valid_rmse = avg_valid_rmse\n",
        "            epochs_no_improve = 0\n",
        "            # сохраняем лучшие веса модели\n",
        "            best_model_state = model.state_dict()\n",
        "        else:\n",
        "            epochs_no_improve += 1\n",
        "            if epochs_no_improve >= patience:\n",
        "                print(f'Early stopping at epoch {epoch}')\n",
        "                break\n",
        "\n",
        "    # загружаем лучшие веса\n",
        "    model.load_state_dict(best_model_state)\n",
        "\n",
        "    return train_losses, train_rmses, valid_losses, valid_rmses, lr_history"
      ]
    },
    {
      "cell_type": "code",
      "execution_count": 19,
      "metadata": {
        "colab": {
          "base_uri": "https://localhost:8080/"
        },
        "id": "vi6QscyrAKrx",
        "outputId": "41854a8d-b3f1-43d5-c593-9a1e0469548e"
      },
      "outputs": [
        {
          "name": "stderr",
          "output_type": "stream",
          "text": [
            "  1%|▏         | 1/70 [00:15<17:55, 15.59s/it]"
          ]
        },
        {
          "name": "stdout",
          "output_type": "stream",
          "text": [
            "EPOCH 0, train_loss: 216438.8295, train_rmse: 465.2299, valid_loss: 717.0634, valid_rmse: 26.7780, lr: 0.01\n"
          ]
        },
        {
          "name": "stderr",
          "output_type": "stream",
          "text": [
            " 16%|█▌        | 11/70 [02:37<13:26, 13.67s/it]"
          ]
        },
        {
          "name": "stdout",
          "output_type": "stream",
          "text": [
            "EPOCH 10, train_loss: 88.8015, train_rmse: 9.4235, valid_loss: 223.0542, valid_rmse: 14.9350, lr: 0.01\n"
          ]
        },
        {
          "name": "stderr",
          "output_type": "stream",
          "text": [
            " 30%|███       | 21/70 [05:07<11:14, 13.77s/it]"
          ]
        },
        {
          "name": "stdout",
          "output_type": "stream",
          "text": [
            "EPOCH 20, train_loss: 79.1105, train_rmse: 8.8944, valid_loss: 83.1578, valid_rmse: 9.1191, lr: 0.008\n"
          ]
        },
        {
          "name": "stderr",
          "output_type": "stream",
          "text": [
            " 44%|████▍     | 31/70 [07:34<10:06, 15.54s/it]"
          ]
        },
        {
          "name": "stdout",
          "output_type": "stream",
          "text": [
            "EPOCH 30, train_loss: 76.3847, train_rmse: 8.7398, valid_loss: 81.7794, valid_rmse: 9.0432, lr: 0.008\n"
          ]
        },
        {
          "name": "stderr",
          "output_type": "stream",
          "text": [
            " 54%|█████▍    | 38/70 [09:26<07:57, 14.92s/it]"
          ]
        },
        {
          "name": "stdout",
          "output_type": "stream",
          "text": [
            "Early stopping at epoch 38\n"
          ]
        },
        {
          "name": "stderr",
          "output_type": "stream",
          "text": [
            "\n"
          ]
        }
      ],
      "source": [
        "train_losses, train_rmses, valid_losses, valid_rmses, lr_history = train(model, optimizer, criterion, train_loader, test_loader, scheduler, patience=10)"
      ]
    },
    {
      "cell_type": "code",
      "execution_count": 21,
      "metadata": {
        "colab": {
          "base_uri": "https://localhost:8080/"
        },
        "id": "TgASMtFpFZuB",
        "outputId": "7f4c5411-064e-4b42-8b2f-b3eb0707d0d6"
      },
      "outputs": [
        {
          "name": "stdout",
          "output_type": "stream",
          "text": [
            "RMSE 8.8299\n"
          ]
        }
      ],
      "source": [
        "rmse = valid_rmses[-1]\n",
        "print(f'RMSE {rmse:.4f}')"
      ]
    },
    {
      "cell_type": "code",
      "execution_count": 22,
      "metadata": {
        "colab": {
          "base_uri": "https://localhost:8080/",
          "height": 467
        },
        "id": "rBgJAWYRFc7L",
        "outputId": "8da46d37-a9f6-4fb0-f6cd-5e9e479c4936"
      },
      "outputs": [
        {
          "data": {
            "image/png": "[encoded data removed]",
            "text/plain": [
              "<Figure size 1000x500 with 1 Axes>"
            ]
          },
          "metadata": {},
          "output_type": "display_data"
        }
      ],
      "source": [
        "plt.figure(figsize=(10, 5))\n",
        "plt.plot(valid_rmses, label='RMSE')\n",
        "plt.xlabel('Epoch')\n",
        "plt.ylabel('RMSE')\n",
        "plt.legend()\n",
        "plt.grid()\n",
        "plt.show()"
      ]
    },
    {
      "cell_type": "markdown",
      "metadata": {
        "id": "MEUpIZRLMp38"
      },
      "source": [
        "# Эксперимент 6"
      ]
    },
    {
      "cell_type": "code",
      "execution_count": 180,
      "metadata": {
        "id": "0IdZZ8mFMnTX"
      },
      "outputs": [],
      "source": [
        "BATCH_SIZE = 128\n",
        "EPOCHS = 70\n",
        "LEARNING_RATE = 0.01\n",
        "PATIENCE = 10"
      ]
    },
    {
      "cell_type": "code",
      "execution_count": 181,
      "metadata": {
        "id": "ASfGkWf_MysX"
      },
      "outputs": [],
      "source": [
        "class ModelSix(nn.Module):\n",
        "    def __init__(self):\n",
        "        super().__init__()\n",
        "        self.layer1 = nn.Linear(90, 256)\n",
        "        self.bn1 = nn.BatchNorm1d(256)\n",
        "        self.act1 = nn.LeakyReLU()\n",
        "        self.dropout = nn.Dropout(0.1)\n",
        "\n",
        "        self.layer2 = nn.Linear(256, 128)\n",
        "        self.bn2 = nn.BatchNorm1d(128)\n",
        "        self.act2 = nn.LeakyReLU()\n",
        "\n",
        "        self.layer3 = nn.Linear(128, 64)\n",
        "        self.bn3 = nn.BatchNorm1d(64)\n",
        "        self.act3 = nn.LeakyReLU()\n",
        "\n",
        "        self.output = nn.Linear(64, 1)\n",
        "\n",
        "    def forward(self, x):\n",
        "        x = self.dropout(self.act1(self.bn1(self.layer1(x))))\n",
        "        x = self.act2(self.bn2(self.layer2(x)))\n",
        "        x = self.act3(self.bn3(self.layer3(x)))\n",
        "        x = self.output(x)\n",
        "        return x"
      ]
    },
    {
      "cell_type": "code",
      "execution_count": 182,
      "metadata": {
        "id": "9gr5p7ANM2Uu"
      },
      "outputs": [],
      "source": [
        "model = ModelSix().to(device)\n",
        "optimizer = optim.Adam(model.parameters(), lr=LEARNING_RATE)\n",
        "criterion = nn.MSELoss()"
      ]
    },
    {
      "cell_type": "code",
      "execution_count": 183,
      "metadata": {
        "id": "k1aEpQI1Njfe"
      },
      "outputs": [],
      "source": [
        "scheduler = torch.optim.lr_scheduler.CosineAnnealingLR(optimizer, T_max=EPOCHS)"
      ]
    },
    {
      "cell_type": "code",
      "execution_count": 184,
      "metadata": {
        "colab": {
          "base_uri": "https://localhost:8080/"
        },
        "id": "A4Pw_qJhNpbH",
        "outputId": "33af1d5f-5f6b-4aba-a7ec-30fecff46fb6"
      },
      "outputs": [
        {
          "name": "stderr",
          "output_type": "stream",
          "text": [
            "  1%|▏         | 1/70 [00:13<15:03, 13.09s/it]"
          ]
        },
        {
          "name": "stdout",
          "output_type": "stream",
          "text": [
            "EPOCH 0, train_loss: 215879.8053, train_rmse: 464.6287, valid_loss: 1413.3070, valid_rmse: 37.5940, lr: 0.009994965332706574\n"
          ]
        },
        {
          "name": "stderr",
          "output_type": "stream",
          "text": [
            " 16%|█▌        | 11/70 [02:26<13:04, 13.29s/it]"
          ]
        },
        {
          "name": "stdout",
          "output_type": "stream",
          "text": [
            "EPOCH 10, train_loss: 88.5565, train_rmse: 9.4104, valid_loss: 82.4380, valid_rmse: 9.0795, lr: 0.009402977659283692\n"
          ]
        },
        {
          "name": "stderr",
          "output_type": "stream",
          "text": [
            " 30%|███       | 21/70 [04:42<10:56, 13.40s/it]"
          ]
        },
        {
          "name": "stdout",
          "output_type": "stream",
          "text": [
            "EPOCH 20, train_loss: 79.4633, train_rmse: 8.9142, valid_loss: 80.1347, valid_rmse: 8.9518, lr: 0.007938926261462368\n"
          ]
        },
        {
          "name": "stderr",
          "output_type": "stream",
          "text": [
            " 44%|████▍     | 31/70 [06:57<08:41, 13.37s/it]"
          ]
        },
        {
          "name": "stdout",
          "output_type": "stream",
          "text": [
            "EPOCH 30, train_loss: 74.8954, train_rmse: 8.6542, valid_loss: 78.0869, valid_rmse: 8.8367, lr: 0.005892784473993186\n"
          ]
        },
        {
          "name": "stderr",
          "output_type": "stream",
          "text": [
            " 51%|█████▏    | 36/70 [08:17<07:49, 13.82s/it]"
          ]
        },
        {
          "name": "stdout",
          "output_type": "stream",
          "text": [
            "Early stopping at epoch 36\n"
          ]
        },
        {
          "name": "stderr",
          "output_type": "stream",
          "text": [
            "\n"
          ]
        }
      ],
      "source": [
        "train_losses, train_rmses, valid_losses, valid_rmses, lr_history = train(model, optimizer, criterion, train_loader, test_loader, scheduler, patience=PATIENCE)"
      ]
    },
    {
      "cell_type": "code",
      "execution_count": 185,
      "metadata": {
        "colab": {
          "base_uri": "https://localhost:8080/"
        },
        "id": "ZYYGQcg9RnJz",
        "outputId": "18831ef3-ace9-4ded-bd09-715678e5f61e"
      },
      "outputs": [
        {
          "name": "stdout",
          "output_type": "stream",
          "text": [
            "RMSE 8.9673\n"
          ]
        }
      ],
      "source": [
        "rmse = valid_rmses[-1]\n",
        "print(f'RMSE {rmse:.4f}')"
      ]
    },
    {
      "cell_type": "code",
      "execution_count": 186,
      "metadata": {
        "colab": {
          "base_uri": "https://localhost:8080/",
          "height": 465
        },
        "id": "3tDn5-ftRrDD",
        "outputId": "37189825-2d83-49b5-d866-a9a6f10ae45b"
      },
      "outputs": [
        {
          "data": {
            "image/png": "[encoded data removed]",
            "text/plain": [
              "<Figure size 1000x500 with 1 Axes>"
            ]
          },
          "metadata": {},
          "output_type": "display_data"
        }
      ],
      "source": [
        "plt.figure(figsize=(10, 5))\n",
        "plt.plot(valid_rmses, label='RMSE')\n",
        "plt.xlabel('Epoch')\n",
        "plt.ylabel('RMSE')\n",
        "plt.legend()\n",
        "plt.grid()\n",
        "plt.show()"
      ]
    },
    {
      "cell_type": "markdown",
      "metadata": {
        "id": "lkzXlcyKtrsY"
      },
      "source": [
        "# Эксперимент 7"
      ]
    },
    {
      "cell_type": "code",
      "execution_count": 220,
      "metadata": {
        "id": "VPYg5GcotuBC"
      },
      "outputs": [],
      "source": [
        "BATCH_SIZE = 128\n",
        "EPOCHS = 70\n",
        "LEARNING_RATE = 0.01\n",
        "PATIENCE = 15"
      ]
    },
    {
      "cell_type": "code",
      "execution_count": 221,
      "metadata": {
        "id": "FcH78SLrtvxn"
      },
      "outputs": [],
      "source": [
        "class ModelSeven(nn.Module):\n",
        "    def __init__(self):\n",
        "        super().__init__()\n",
        "        self.layer1 = nn.Linear(90, 256)\n",
        "        self.bn1 = nn.BatchNorm1d(256)\n",
        "        self.act1 = nn.LeakyReLU()\n",
        "        self.dropout1 = nn.Dropout(0.2)\n",
        "\n",
        "        self.layer2 = nn.Linear(256, 128)\n",
        "        self.bn2 = nn.BatchNorm1d(128)\n",
        "        self.act2 = nn.LeakyReLU()\n",
        "        self.dropout2 = nn.Dropout(0.2)  # добавил Dropout\n",
        "\n",
        "        self.layer3 = nn.Linear(128, 64)\n",
        "        self.bn3 = nn.BatchNorm1d(64)\n",
        "        self.act3 = nn.LeakyReLU()\n",
        "\n",
        "        self.output = nn.Linear(64, 1)\n",
        "\n",
        "    def forward(self, x):\n",
        "        x = self.dropout1(self.act1(self.bn1(self.layer1(x))))\n",
        "        x = self.dropout2(self.act2(self.bn2(self.layer2(x))))\n",
        "        x = self.act3(self.bn3(self.layer3(x)))\n",
        "        x = self.output(x)\n",
        "        return x"
      ]
    },
    {
      "cell_type": "code",
      "execution_count": 222,
      "metadata": {
        "id": "JTZRmEHNtz6s"
      },
      "outputs": [],
      "source": [
        "model = ModelSeven().to(device)\n",
        "optimizer = optim.AdamW(model.parameters(), lr=LEARNING_RATE, weight_decay=1e-4) # AdamW и добавил weight_decay\n",
        "criterion = nn.MSELoss()"
      ]
    },
    {
      "cell_type": "code",
      "execution_count": 223,
      "metadata": {
        "id": "dVeqLfwCt1iW"
      },
      "outputs": [],
      "source": [
        "scheduler = torch.optim.lr_scheduler.CosineAnnealingLR(optimizer, T_max=50)"
      ]
    },
    {
      "cell_type": "code",
      "execution_count": 224,
      "metadata": {
        "colab": {
          "base_uri": "https://localhost:8080/"
        },
        "id": "Yz59-1awt3YL",
        "outputId": "4ab3305f-b524-4edd-ed21-e45dc1625c2c"
      },
      "outputs": [
        {
          "name": "stderr",
          "output_type": "stream",
          "text": [
            "  1%|▏         | 1/70 [00:16<19:03, 16.57s/it]"
          ]
        },
        {
          "name": "stdout",
          "output_type": "stream",
          "text": [
            "EPOCH 0, train_loss: 217504.2363, train_rmse: 466.3735, valid_loss: 131.1194, valid_rmse: 11.4507, lr: 0.009990133642141357\n"
          ]
        },
        {
          "name": "stderr",
          "output_type": "stream",
          "text": [
            " 16%|█▌        | 11/70 [02:32<13:29, 13.73s/it]"
          ]
        },
        {
          "name": "stdout",
          "output_type": "stream",
          "text": [
            "EPOCH 10, train_loss: 82.8561, train_rmse: 9.1025, valid_loss: 83.0528, valid_rmse: 9.1133, lr: 0.008852566213878947\n"
          ]
        },
        {
          "name": "stderr",
          "output_type": "stream",
          "text": [
            " 30%|███       | 21/70 [04:48<11:01, 13.51s/it]"
          ]
        },
        {
          "name": "stdout",
          "output_type": "stream",
          "text": [
            "EPOCH 20, train_loss: 76.9451, train_rmse: 8.7718, valid_loss: 76.5907, valid_rmse: 8.7516, lr: 0.006243449435824274\n"
          ]
        },
        {
          "name": "stderr",
          "output_type": "stream",
          "text": [
            " 44%|████▍     | 31/70 [07:04<08:49, 13.58s/it]"
          ]
        },
        {
          "name": "stdout",
          "output_type": "stream",
          "text": [
            "EPOCH 30, train_loss: 73.2588, train_rmse: 8.5591, valid_loss: 78.1920, valid_rmse: 8.8426, lr: 0.0031593772365766134\n"
          ]
        },
        {
          "name": "stderr",
          "output_type": "stream",
          "text": [
            " 59%|█████▊    | 41/70 [09:21<06:33, 13.56s/it]"
          ]
        },
        {
          "name": "stdout",
          "output_type": "stream",
          "text": [
            "EPOCH 40, train_loss: 70.7589, train_rmse: 8.4118, valid_loss: 76.2385, valid_rmse: 8.7315, lr: 0.000778360372489926\n"
          ]
        },
        {
          "name": "stderr",
          "output_type": "stream",
          "text": [
            " 73%|███████▎  | 51/70 [11:41<04:47, 15.15s/it]"
          ]
        },
        {
          "name": "stdout",
          "output_type": "stream",
          "text": [
            "EPOCH 50, train_loss: 69.7362, train_rmse: 8.3508, valid_loss: 76.1697, valid_rmse: 8.7275, lr: 9.866357858642205e-06\n"
          ]
        },
        {
          "name": "stderr",
          "output_type": "stream",
          "text": [
            " 87%|████████▋ | 61/70 [14:12<02:04, 13.84s/it]"
          ]
        },
        {
          "name": "stdout",
          "output_type": "stream",
          "text": [
            "EPOCH 60, train_loss: 70.5013, train_rmse: 8.3965, valid_loss: 76.0234, valid_rmse: 8.7191, lr: 0.0011474337861210535\n"
          ]
        },
        {
          "name": "stderr",
          "output_type": "stream",
          "text": [
            "100%|██████████| 70/70 [16:14<00:00, 13.92s/it]\n"
          ]
        }
      ],
      "source": [
        "train_losses, train_rmses, valid_losses, valid_rmses, lr_history = train(model, optimizer, criterion, train_loader, test_loader, scheduler, patience=PATIENCE)"
      ]
    },
    {
      "cell_type": "code",
      "execution_count": 225,
      "metadata": {
        "colab": {
          "base_uri": "https://localhost:8080/"
        },
        "id": "Z7jY9Bh7t5Nu",
        "outputId": "40f68d53-e19f-4ff4-d428-3163dca60967"
      },
      "outputs": [
        {
          "name": "stdout",
          "output_type": "stream",
          "text": [
            "RMSE 8.7340\n"
          ]
        }
      ],
      "source": [
        "rmse = valid_rmses[-1]\n",
        "print(f'RMSE {rmse:.4f}')"
      ]
    },
    {
      "cell_type": "code",
      "execution_count": 226,
      "metadata": {
        "colab": {
          "base_uri": "https://localhost:8080/",
          "height": 465
        },
        "id": "kGfpxmEGt7AK",
        "outputId": "6ef74691-2555-4b98-92b3-d916f264525e"
      },
      "outputs": [
        {
          "data": {
            "image/png": "[encoded data removed]",
            "text/plain": [
              "<Figure size 1000x500 with 1 Axes>"
            ]
          },
          "metadata": {},
          "output_type": "display_data"
        }
      ],
      "source": [
        "plt.figure(figsize=(10, 5))\n",
        "plt.plot(valid_rmses, label='RMSE')\n",
        "plt.xlabel('Epoch')\n",
        "plt.ylabel('RMSE')\n",
        "plt.legend()\n",
        "plt.grid()\n",
        "plt.show()"
      ]
    },
    {
      "cell_type": "markdown",
      "metadata": {
        "id": "0rc-wwfs6rII"
      },
      "source": [
        "\n",
        "\n",
        "\n",
        "\n",
        "\n",
        "\n",
        "\n",
        "\n",
        "\n",
        "\n",
        "\n",
        "\n",
        "\n",
        "\n",
        "\n",
        "## 7.1"
      ]
    },
    {
      "cell_type": "code",
      "execution_count": 240,
      "metadata": {
        "id": "L8_DPdZ2hJOx"
      },
      "outputs": [],
      "source": [
        "BATCH_SIZE = 128\n",
        "EPOCHS = 70\n",
        "LEARNING_RATE = 0.05 # увеличил\n",
        "PATIENCE = 15"
      ]
    },
    {
      "cell_type": "code",
      "execution_count": 241,
      "metadata": {
        "id": "9iuiFSwF6qLl"
      },
      "outputs": [],
      "source": [
        "class ModelSeven(nn.Module):\n",
        "    def __init__(self):\n",
        "        super().__init__()\n",
        "        self.layer1 = nn.Linear(90, 256)\n",
        "        self.bn1 = nn.BatchNorm1d(256)\n",
        "        self.act1 = nn.LeakyReLU()\n",
        "        self.dropout1 = nn.Dropout(0.2)\n",
        "\n",
        "        self.layer2 = nn.Linear(256, 128)\n",
        "        self.bn2 = nn.BatchNorm1d(128)\n",
        "        self.act2 = nn.LeakyReLU()\n",
        "        self.dropout2 = nn.Dropout(0.2)\n",
        "\n",
        "        self.layer3 = nn.Linear(128, 64)\n",
        "        self.bn3 = nn.BatchNorm1d(64)\n",
        "        self.act3 = nn.LeakyReLU()\n",
        "\n",
        "        self.output = nn.Linear(64, 1)\n",
        "\n",
        "    def forward(self, x):\n",
        "        x = self.dropout1(self.act1(self.bn1(self.layer1(x))))\n",
        "        x = self.dropout2(self.act2(self.bn2(self.layer2(x))))\n",
        "        x = self.act3(self.bn3(self.layer3(x)))\n",
        "        x = self.output(x)\n",
        "        return x"
      ]
    },
    {
      "cell_type": "code",
      "execution_count": 242,
      "metadata": {
        "id": "Pg-EzxZe7MrY"
      },
      "outputs": [],
      "source": [
        "model = ModelSeven().to(device)\n",
        "optimizer = optim.AdamW(model.parameters(), lr=LEARNING_RATE, weight_decay=1e-4)\n",
        "criterion = nn.MSELoss()"
      ]
    },
    {
      "cell_type": "code",
      "execution_count": 243,
      "metadata": {
        "id": "GWg3mpFK7Sn5"
      },
      "outputs": [],
      "source": [
        "scheduler = torch.optim.lr_scheduler.CosineAnnealingLR(optimizer, T_max=50)"
      ]
    },
    {
      "cell_type": "code",
      "execution_count": 244,
      "metadata": {
        "colab": {
          "base_uri": "https://localhost:8080/"
        },
        "id": "o19MykDZavXq",
        "outputId": "c32bc3cb-31f0-44b8-db26-e8c346bf5ec1"
      },
      "outputs": [
        {
          "name": "stderr",
          "output_type": "stream",
          "text": [
            "  1%|▏         | 1/70 [00:13<15:36, 13.57s/it]"
          ]
        },
        {
          "name": "stdout",
          "output_type": "stream",
          "text": [
            "EPOCH 0, train_loss: 52335.5583, train_rmse: 228.7697, valid_loss: 164.9291, valid_rmse: 12.8425, lr: 0.04995066821070679\n"
          ]
        },
        {
          "name": "stderr",
          "output_type": "stream",
          "text": [
            " 16%|█▌        | 11/70 [02:32<13:37, 13.86s/it]"
          ]
        },
        {
          "name": "stdout",
          "output_type": "stream",
          "text": [
            "EPOCH 10, train_loss: 86.6958, train_rmse: 9.3111, valid_loss: 87.6886, valid_rmse: 9.3642, lr: 0.04426283106939473\n"
          ]
        },
        {
          "name": "stderr",
          "output_type": "stream",
          "text": [
            " 30%|███       | 21/70 [04:49<11:10, 13.68s/it]"
          ]
        },
        {
          "name": "stdout",
          "output_type": "stream",
          "text": [
            "EPOCH 20, train_loss: 80.9489, train_rmse: 8.9972, valid_loss: 76.9616, valid_rmse: 8.7728, lr: 0.03121724717912136\n"
          ]
        },
        {
          "name": "stderr",
          "output_type": "stream",
          "text": [
            " 44%|████▍     | 31/70 [07:05<08:52, 13.65s/it]"
          ]
        },
        {
          "name": "stdout",
          "output_type": "stream",
          "text": [
            "EPOCH 30, train_loss: 74.6687, train_rmse: 8.6411, valid_loss: 77.7053, valid_rmse: 8.8151, lr: 0.01579688618288306\n"
          ]
        },
        {
          "name": "stderr",
          "output_type": "stream",
          "text": [
            " 59%|█████▊    | 41/70 [09:22<06:36, 13.66s/it]"
          ]
        },
        {
          "name": "stdout",
          "output_type": "stream",
          "text": [
            "EPOCH 40, train_loss: 70.4940, train_rmse: 8.3961, valid_loss: 77.9953, valid_rmse: 8.8315, lr: 0.0038918018624496285\n"
          ]
        },
        {
          "name": "stderr",
          "output_type": "stream",
          "text": [
            " 73%|███████▎  | 51/70 [11:39<04:18, 13.62s/it]"
          ]
        },
        {
          "name": "stdout",
          "output_type": "stream",
          "text": [
            "EPOCH 50, train_loss: 68.3575, train_rmse: 8.2679, valid_loss: 75.9461, valid_rmse: 8.7147, lr: 4.933178929321103e-05\n"
          ]
        },
        {
          "name": "stderr",
          "output_type": "stream",
          "text": [
            " 80%|████████  | 56/70 [13:00<03:15, 13.95s/it]"
          ]
        },
        {
          "name": "stdout",
          "output_type": "stream",
          "text": [
            "Early stopping at epoch 56\n"
          ]
        },
        {
          "name": "stderr",
          "output_type": "stream",
          "text": [
            "\n"
          ]
        }
      ],
      "source": [
        "train_losses, train_rmses, valid_losses, valid_rmses, lr_history = train(model, optimizer, criterion, train_loader, test_loader, scheduler, patience=PATIENCE)"
      ]
    },
    {
      "cell_type": "code",
      "execution_count": 245,
      "metadata": {
        "colab": {
          "base_uri": "https://localhost:8080/"
        },
        "id": "7u6JLDN6bDbV",
        "outputId": "e83f96c5-7039-4abf-ad99-084ff7f92fa7"
      },
      "outputs": [
        {
          "name": "stdout",
          "output_type": "stream",
          "text": [
            "RMSE 8.7277\n"
          ]
        }
      ],
      "source": [
        "rmse = valid_rmses[-1]\n",
        "print(f'RMSE {rmse:.4f}')"
      ]
    },
    {
      "cell_type": "code",
      "execution_count": 247,
      "metadata": {
        "colab": {
          "base_uri": "https://localhost:8080/",
          "height": 466
        },
        "id": "oxFeboBpbMfi",
        "outputId": "36003c47-60e0-4e2a-e6c6-5d97134a613e"
      },
      "outputs": [
        {
          "data": {
            "image/png": "[encoded data removed]",
            "text/plain": [
              "<Figure size 1000x500 with 1 Axes>"
            ]
          },
          "metadata": {},
          "output_type": "display_data"
        }
      ],
      "source": [
        "plt.figure(figsize=(10, 5))\n",
        "plt.plot(valid_rmses, label='RMSE')\n",
        "plt.xlabel('Epoch')\n",
        "plt.ylabel('RMSE')\n",
        "plt.legend()\n",
        "plt.grid()\n",
        "plt.show()"
      ]
    },
    {
      "cell_type": "markdown",
      "metadata": {
        "id": "bine9EES6TIn"
      },
      "source": [
        "## Задание 2. (0 баллов, но при невыполнении максимум за все задание &mdash; 0 баллов)\n",
        "\n",
        "Напишите небольшой отчет о том, как вы добились полученного качества: какие средства использовали и какие эксперименты проводили. Подробно расскажите об архитектурах и значениях гиперпараметров, а также какие метрики на тесте они показывали. Чтобы отчет был зачтен, необходимо привести хотя бы 3 эксперимента."
      ]
    },
    {
      "cell_type": "markdown",
      "metadata": {
        "id": "_651CtBqcMrN"
      },
      "source": [
        "### Предобработка данных\n",
        "#### Масштабирование\n",
        "Масштабировал все признаки с помощью StandardScaler.  \n",
        "#### PCA\n",
        "Также пробовал применять PCA, оставляя 80%, 90% или 95% дисперсии, но качество моделей при этом становилось хуже, поэтому решил отказаться от снижения размерности.   \n",
        "\n",
        "### Эксперимент 1  \n",
        "Linear(90, 64) → ReLU → Linear(64, 32) → ReLU → Linear(32, 1)  \n",
        "BATCH_SIZE = 128  \n",
        "EPOCHS = 50  \n",
        "LEARNING_RATE = 0.001  \n",
        "Optimizer: Adam  \n",
        "Сначала я хотел обучить простую нейронную сеть, чтобы получить базовый результат. Получилось немного хуже бейзлана (9.51), но лучше DummyRegressor (10.85).    \n",
        "RMSE: 9.6050\n",
        "\n",
        "### Эксперимент 2\n",
        "Linear(90, 64) → BatchNorm1d(64) → ReLU → Linear(64, 32) → BatchNorm1d(32) → ReLU → Linear(32, 1)  \n",
        "Добавил BatchNorm. Качество немного улучшилось.  \n",
        "RMSE 9.3876  \n",
        "\n",
        "### Эксперимент 3\n",
        "Linear(90, 128) → BatchNorm1d(128) → ReLU → Dropout(0.1) → Linear(128, 64) → BatchNorm1d(64) → ReLU → Linear(64, 1)  \n",
        "Увеличил число нейронов в скрытых слоях. Затем попробовал добавить Dropout, чтобы уменьшить переобучение (наилучший результат был с одним Dropout).  \n",
        "RMSE 8.9349\n",
        "\n",
        "### Эксперимент 4\n",
        "Linear(90, 128) → BatchNorm1d(128) → LeakyReLU → Dropout(0.1) → Linear(128, 64) → BatchNorm1d(64) → LeakyReLU → Linear(64, 1)  \n",
        "Попробовал заменить ReLU на LeakyReLU. С ним результат немного улучшился.  \n",
        "RMSE 8.9099\n",
        "\n",
        "### Эксперимент 5\n",
        "Linear(90, 256) → BatchNorm1d(256) → LeakyReLU → Dropout(0.1) → Linear(256, 128) → BatchNorm1d(128) → LeakyReLU → Linear(128, 64) → BatchNorm1d(64) → LeakyReLU → Linear(64, 1)  \n",
        "Гиперпараметры: кол-во эпох увеличил до 70 (тк добавил early stopping, чтобы останавливать обучение при отсуствии улучшений), lr=0.01.  \n",
        "Добавил еще один слой. Также добавил scheduler (StepLR), чтобы постепенно менять lr.  \n",
        "RMSE 8.8299  \n",
        "\n",
        "### Эксперимент 6\n",
        "Linear(90, 256) → BatchNorm1d(256) → LeakyReLU → Dropout(0.1) → Linear(256, 128) → BatchNorm1d(128) → LeakyReLU → Linear(128, 64) → BatchNorm1d(64) → LeakyReLU → Linear(64, 1)  \n",
        "Проверил другой scheduler (CosineAnnealingLR). Результат ухудшился  \n",
        "RMSE 8.9673\n",
        "\n",
        "### Эксперимент 7 / 7.1\n",
        "Linear(90, 256) → BatchNorm1d(256) → LeakyReLU → Dropout(0.2) → Linear(256, 128) → BatchNorm1d(128) → LeakyReLU → Dropout(0.2) (ещё один Dropout) → Linear(128, 64) → BatchNorm1d(64) → LeakyReLU → Linear(64, 1)  \n",
        "Чтобы снизить переобучение, перешел на оптимизатор AdamW с weight_decay и увеличил Dropout.  \n",
        "RMSE 8.7340  \n",
        "\n",
        "Попробовал поэкспериментировать с гиперпараметрами, и при lr=0.05 (в 7.1) модель показала немного лучший результат.  \n",
        "RMSE 8.7277\n"
      ]
    }
  ],
  "metadata": {
    "accelerator": "GPU",
    "colab": {
      "gpuType": "T4",
      "provenance": [],
      "toc_visible": true
    },
    "kernelspec": {
      "display_name": "Python 3",
      "name": "python3"
    },
    "language_info": {
      "codemirror_mode": {
        "name": "ipython",
        "version": 3
      },
      "file_extension": ".py",
      "mimetype": "text/x-python",
      "name": "python",
      "nbconvert_exporter": "python",
      "pygments_lexer": "ipython3",
      "version": "3.9.12"
    }
  },
  "nbformat": 4,
  "nbformat_minor": 0
}
